{
  "metadata": {
    "kernelspec": {
      "language": "python",
      "display_name": "Python 3",
      "name": "python3"
    },
    "language_info": {
      "name": "python",
      "version": "3.10.14",
      "mimetype": "text/x-python",
      "codemirror_mode": {
        "name": "ipython",
        "version": 3
      },
      "pygments_lexer": "ipython3",
      "nbconvert_exporter": "python",
      "file_extension": ".py"
    },
    "kaggle": {
      "accelerator": "nvidiaTeslaT4",
      "dataSources": [
        {
          "sourceId": 9507407,
          "sourceType": "datasetVersion",
          "datasetId": 5786757
        }
      ],
      "dockerImageVersionId": 30776,
      "isInternetEnabled": true,
      "language": "python",
      "sourceType": "notebook",
      "isGpuEnabled": true
    },
    "colab": {
      "name": "notebookf743c4044d",
      "provenance": [],
      "include_colab_link": true
    }
  },
  "nbformat_minor": 0,
  "nbformat": 4,
  "cells": [
    {
      "cell_type": "markdown",
      "metadata": {
        "id": "view-in-github",
        "colab_type": "text"
      },
      "source": [
        "<a href=\"https://colab.research.google.com/github/avikagupta03/DepressionTweetAnalyzer/blob/main/notebookf743c4044d.ipynb\" target=\"_parent\"><img src=\"https://colab.research.google.com/assets/colab-badge.svg\" alt=\"Open In Colab\"/></a>"
      ]
    },
    {
      "source": [
        "\n",
        "# IMPORTANT: RUN THIS CELL IN ORDER TO IMPORT YOUR KAGGLE DATA SOURCES\n",
        "# TO THE CORRECT LOCATION (/kaggle/input) IN YOUR NOTEBOOK,\n",
        "# THEN FEEL FREE TO DELETE THIS CELL.\n",
        "# NOTE: THIS NOTEBOOK ENVIRONMENT DIFFERS FROM KAGGLE'S PYTHON\n",
        "# ENVIRONMENT SO THERE MAY BE MISSING LIBRARIES USED BY YOUR\n",
        "# NOTEBOOK.\n",
        "\n",
        "import os\n",
        "import sys\n",
        "from tempfile import NamedTemporaryFile\n",
        "from urllib.request import urlopen\n",
        "from urllib.parse import unquote, urlparse\n",
        "from urllib.error import HTTPError\n",
        "from zipfile import ZipFile\n",
        "import tarfile\n",
        "import shutil\n",
        "\n",
        "CHUNK_SIZE = 40960\n",
        "DATA_SOURCE_MAPPING = 'cdme-gan:https%3A%2F%2Fstorage.googleapis.com%2Fkaggle-data-sets%2F5786757%2F9507407%2Fbundle%2Farchive.zip%3FX-Goog-Algorithm%3DGOOG4-RSA-SHA256%26X-Goog-Credential%3Dgcp-kaggle-com%2540kaggle-161607.iam.gserviceaccount.com%252F20241007%252Fauto%252Fstorage%252Fgoog4_request%26X-Goog-Date%3D20241007T161701Z%26X-Goog-Expires%3D259200%26X-Goog-SignedHeaders%3Dhost%26X-Goog-Signature%3Db14c5b2cc71347690bc630966656ade670d884ffd3a861b7e16316a395e9b9ed2ec7e9ad6aaa372c011f84ee0e8e885631a1126ff2d28a97121df926126d41fc3602f6be3104c5b0db6c6176e75bbf7d7db24e22de7ff20bc117e1d2cb1d24dcb719b796a1d4b27f1db8ac0aecb7eeac7c58f5e2020f051d517bef564400b1425f391acd13bf62ab324859ecdf12b24199bb091ac07fb86617a9f8ab801a7f407883c3d449fb9a69961bb6f3fcb5980ac2fc16d863050f8f90d1a7c10aa688b875dd44ee4b9699d1813786ed2bf26ede321776b9cefc8dc0f7eb17ab7819ab8f493e7f27b546f3e853f2aab4c9e4e7225646a80677eb2b3a51f89cbba4b377ee'\n",
        "\n",
        "KAGGLE_INPUT_PATH='/kaggle/input'\n",
        "KAGGLE_WORKING_PATH='/kaggle/working'\n",
        "KAGGLE_SYMLINK='kaggle'\n",
        "\n",
        "!umount /kaggle/input/ 2> /dev/null\n",
        "shutil.rmtree('/kaggle/input', ignore_errors=True)\n",
        "os.makedirs(KAGGLE_INPUT_PATH, 0o777, exist_ok=True)\n",
        "os.makedirs(KAGGLE_WORKING_PATH, 0o777, exist_ok=True)\n",
        "\n",
        "try:\n",
        "  os.symlink(KAGGLE_INPUT_PATH, os.path.join(\"..\", 'input'), target_is_directory=True)\n",
        "except FileExistsError:\n",
        "  pass\n",
        "try:\n",
        "  os.symlink(KAGGLE_WORKING_PATH, os.path.join(\"..\", 'working'), target_is_directory=True)\n",
        "except FileExistsError:\n",
        "  pass\n",
        "\n",
        "for data_source_mapping in DATA_SOURCE_MAPPING.split(','):\n",
        "    directory, download_url_encoded = data_source_mapping.split(':')\n",
        "    download_url = unquote(download_url_encoded)\n",
        "    filename = urlparse(download_url).path\n",
        "    destination_path = os.path.join(KAGGLE_INPUT_PATH, directory)\n",
        "    try:\n",
        "        with urlopen(download_url) as fileres, NamedTemporaryFile() as tfile:\n",
        "            total_length = fileres.headers['content-length']\n",
        "            print(f'Downloading {directory}, {total_length} bytes compressed')\n",
        "            dl = 0\n",
        "            data = fileres.read(CHUNK_SIZE)\n",
        "            while len(data) > 0:\n",
        "                dl += len(data)\n",
        "                tfile.write(data)\n",
        "                done = int(50 * dl / int(total_length))\n",
        "                sys.stdout.write(f\"\\r[{'=' * done}{' ' * (50-done)}] {dl} bytes downloaded\")\n",
        "                sys.stdout.flush()\n",
        "                data = fileres.read(CHUNK_SIZE)\n",
        "            if filename.endswith('.zip'):\n",
        "              with ZipFile(tfile) as zfile:\n",
        "                zfile.extractall(destination_path)\n",
        "            else:\n",
        "              with tarfile.open(tfile.name) as tarfile:\n",
        "                tarfile.extractall(destination_path)\n",
        "            print(f'\\nDownloaded and uncompressed: {directory}')\n",
        "    except HTTPError as e:\n",
        "        print(f'Failed to load (likely expired) {download_url} to path {destination_path}')\n",
        "        continue\n",
        "    except OSError as e:\n",
        "        print(f'Failed to load {download_url} to path {destination_path}')\n",
        "        continue\n",
        "\n",
        "print('Data source import complete.')\n"
      ],
      "metadata": {
        "id": "2KCFOcS2xSG2"
      },
      "cell_type": "code",
      "outputs": [],
      "execution_count": null
    },
    {
      "cell_type": "code",
      "source": [
        "import pandas as pd"
      ],
      "metadata": {
        "_uuid": "8f2839f25d086af736a60e9eeb907d3b93b6e0e5",
        "_cell_guid": "b1076dfc-b9ad-4769-8c92-a6c4dae69d19",
        "execution": {
          "iopub.status.busy": "2024-10-06T14:28:42.711262Z",
          "iopub.execute_input": "2024-10-06T14:28:42.712242Z",
          "iopub.status.idle": "2024-10-06T14:28:43.089799Z",
          "shell.execute_reply.started": "2024-10-06T14:28:42.712195Z",
          "shell.execute_reply": "2024-10-06T14:28:43.089039Z"
        },
        "trusted": true,
        "id": "kgOvScJlxSG3"
      },
      "execution_count": null,
      "outputs": []
    },
    {
      "cell_type": "code",
      "source": [
        "diagnosed_depression_path = '/kaggle/input/cdme-gan/I am diagnosed with depression.csv'  # 58 tweets\n",
        "fighting_depression_path = '/kaggle/input/cdme-gan/I am fighting depression.csv'  # 80 tweets\n",
        "suffering_depression_path = '/kaggle/input/cdme-gan/I suffer from depression.csv'  # 554 tweets\n",
        "tweetdata_txt_path = '/kaggle/input/cdme-gan/tweetdata.txt'  # 160,454 tweets\n",
        "depressive_processed_path = '/kaggle/input/cdme-gan/depressive_tweets_processed.csv'  # 2,323 tweets\n",
        "random_tweets_path = '/kaggle/input/cdme-gan/sentiment140.csv'  # Sentiment140 dataset"
      ],
      "metadata": {
        "execution": {
          "iopub.status.busy": "2024-10-06T14:28:43.209199Z",
          "iopub.execute_input": "2024-10-06T14:28:43.209647Z",
          "iopub.status.idle": "2024-10-06T14:28:43.214977Z",
          "shell.execute_reply.started": "2024-10-06T14:28:43.209608Z",
          "shell.execute_reply": "2024-10-06T14:28:43.213894Z"
        },
        "trusted": true,
        "id": "NigeYr8WxSG4"
      },
      "execution_count": null,
      "outputs": []
    },
    {
      "cell_type": "code",
      "source": [
        "# Load depressive datasets\n",
        "diagnosed_depression = pd.read_csv(diagnosed_depression_path, names=['tweet_text'])\n",
        "fighting_depression = pd.read_csv(fighting_depression_path, names=['tweet_text'])\n",
        "suffering_depression = pd.read_csv(suffering_depression_path, names=['tweet_text'])"
      ],
      "metadata": {
        "execution": {
          "iopub.status.busy": "2024-10-06T14:28:43.239924Z",
          "iopub.execute_input": "2024-10-06T14:28:43.240712Z",
          "iopub.status.idle": "2024-10-06T14:28:43.349675Z",
          "shell.execute_reply.started": "2024-10-06T14:28:43.240676Z",
          "shell.execute_reply": "2024-10-06T14:28:43.348864Z"
        },
        "trusted": true,
        "id": "lMQJQzjaxSG4"
      },
      "execution_count": null,
      "outputs": []
    },
    {
      "cell_type": "code",
      "source": [
        "diagnosed_depression.head(10)"
      ],
      "metadata": {
        "execution": {
          "iopub.status.busy": "2024-10-06T14:28:43.351141Z",
          "iopub.execute_input": "2024-10-06T14:28:43.351443Z",
          "iopub.status.idle": "2024-10-06T14:28:43.390234Z",
          "shell.execute_reply.started": "2024-10-06T14:28:43.351411Z",
          "shell.execute_reply": "2024-10-06T14:28:43.389341Z"
        },
        "trusted": true,
        "id": "-LCPeF9wxSG4",
        "outputId": "a54bc4d1-27cc-43be-b714-28bcf8856dac"
      },
      "execution_count": null,
      "outputs": [
        {
          "execution_count": 12,
          "output_type": "execute_result",
          "data": {
            "text/plain": "                                                                                                                                                                                                                                                                                                                                                                                                                                                                                                                                                                                                              tweet_text\nid                  conversation_id     created_at              date       time     timezone user_id             username        name             place tweet                                              language mentions urls photos                                             replies_count retweets_count likes_count hashtags cashtags link                                               retweet quote_url video thumbnail                                       near geo source user_rt_id user_rt retweet_id reply_to                                           retweet_date translate trans_src  trans_dest\n1434955769229754373 1434955769229754373 2021-09-06 19:04:50 UTC 2021-09-06 19:04:50 +0000    1381318737496838152 andreeazxm      andreea🤎         NaN   Tw: depression I was diagnosed with depression ... en       []       []   []                                                 3             0              1           []       []       https://twitter.com/andreeazxm/status/143495576... False   NaN       0     NaN                                             NaN  NaN NaN    NaN        NaN     NaN        []                                                 NaN          NaN       NaN               NaN\n1434945519395106816 1434945519395106816 2021-09-06 18:24:06 UTC 2021-09-06 18:24:06 +0000    757411816079134720  generouspanda   ☕Dàfāng (大方)☕    NaN   To all the people checking on me yesterday, tha... en       []       []   []                                                 2             0              7           []       []       https://twitter.com/GenerousPanda/status/143494... False   NaN       0     NaN                                             NaN  NaN NaN    NaN        NaN     NaN        []                                                 NaN          NaN       NaN               NaN\n1434869483366088708 1434869483366088708 2021-09-06 13:21:58 UTC 2021-09-06 13:21:58 +0000    408163969           annbag2         Ann Sproule🌏🔥💧😷  NaN   What gives you strength and bearing to cope wit... en       []       []   []                                                 4             0              7           []       []       https://twitter.com/annbag2/status/143486948336... False   NaN       0     NaN                                             NaN  NaN NaN    NaN        NaN     NaN        []                                                 NaN          NaN       NaN               NaN\n1434817177819963394 1434709252363390983 2021-09-06 09:54:07 UTC 2021-09-06 09:54:07 +0000    1317853886871371776 moogmarion      Marion           NaN   @SteveWCarlson @12News He was diagnosed  with t... en       []       []   []                                                 3             0              0           []       []       https://twitter.com/MoogMarion/status/143481717... False   NaN       0     NaN                                             NaN  NaN NaN    NaN        NaN     NaN        [{'screen_name': 'SteveWCarlson', 'name': 'Sena... NaN          NaN       NaN               NaN\n1434774860547330049 1434774860547330049 2021-09-06 07:05:58 UTC 2021-09-06 07:05:58 +0000    759164851319021569  discordkittem   meow for me      NaN   i have self diagnosed myself with depression. i... en       []       []   ['https://pbs.twimg.com/media/E-lXVVPVgAEg461.p... 5             0              25          []       []       https://twitter.com/discordkittem/status/143477... False   NaN       1     https://pbs.twimg.com/media/E-lXVVPVgAEg461.png NaN  NaN NaN    NaN        NaN     NaN        []                                                 NaN          NaN       NaN               NaN\n1434707385159802882 1434678401986711554 2021-09-06 02:37:50 UTC 2021-09-06 02:37:50 +0000    1427264476047319055 metal_fuzz      MetalFuzz        NaN   @DollBrat1985 Thank you for reaching out. You a... en       []       []   []                                                 0             0              1           []       []       https://twitter.com/metal_fuzz/status/143470738... False   NaN       0     NaN                                             NaN  NaN NaN    NaN        NaN     NaN        [{'screen_name': 'DollBrat1985', 'name': '🎀 Dol... NaN          NaN       NaN               NaN\n1434664575979253760 1434664574381219841 2021-09-05 23:47:44 UTC 2021-09-05 23:47:44 +0000    1253742840330350592 lyllicoris      llily 🎗️ deja vu NaN   for legal reasons, im going to state i am diagn... en       []       []   []                                                 0             0              0           []       []       https://twitter.com/lyllicoris/status/143466457... False   NaN       0     NaN                                             NaN  NaN NaN    NaN        NaN     NaN        []                                                 NaN          NaN       NaN               NaN\n1434644309282852868 1434644309282852868 2021-09-05 22:27:12 UTC 2021-09-05 22:27:12 +0000    1196920622909206531 binkisaur       Binki            NaN   I love when irl friends who I haven’t really se... en       []       []   []                                                 1             0              8           []       []       https://twitter.com/binkisaur/status/1434644309... False   NaN       0     NaN                                             NaN  NaN NaN    NaN        NaN     NaN        []                                                 NaN          NaN       NaN               NaN\n1434480199891030022 1434480196443328515 2021-09-05 11:35:05 UTC 2021-09-05 11:35:05 +0000    710648914139942913  reclusivebear66 Reclusive Bear   NaN   I got diagnosed with depression last year.  I a... en       []       []   []                                                 1             0              0           []       []       https://twitter.com/ReclusiveBear66/status/1434... False   NaN       0     NaN                                             NaN  NaN NaN    NaN        NaN     NaN        []                                                 NaN          NaN       NaN               NaN",
            "text/html": "<div>\n<style scoped>\n    .dataframe tbody tr th:only-of-type {\n        vertical-align: middle;\n    }\n\n    .dataframe tbody tr th {\n        vertical-align: top;\n    }\n\n    .dataframe thead th {\n        text-align: right;\n    }\n</style>\n<table border=\"1\" class=\"dataframe\">\n  <thead>\n    <tr style=\"text-align: right;\">\n      <th></th>\n      <th></th>\n      <th></th>\n      <th></th>\n      <th></th>\n      <th></th>\n      <th></th>\n      <th></th>\n      <th></th>\n      <th></th>\n      <th></th>\n      <th></th>\n      <th></th>\n      <th></th>\n      <th></th>\n      <th></th>\n      <th></th>\n      <th></th>\n      <th></th>\n      <th></th>\n      <th></th>\n      <th></th>\n      <th></th>\n      <th></th>\n      <th></th>\n      <th></th>\n      <th></th>\n      <th></th>\n      <th></th>\n      <th></th>\n      <th></th>\n      <th></th>\n      <th></th>\n      <th></th>\n      <th></th>\n      <th>tweet_text</th>\n    </tr>\n  </thead>\n  <tbody>\n    <tr>\n      <th>id</th>\n      <th>conversation_id</th>\n      <th>created_at</th>\n      <th>date</th>\n      <th>time</th>\n      <th>timezone</th>\n      <th>user_id</th>\n      <th>username</th>\n      <th>name</th>\n      <th>place</th>\n      <th>tweet</th>\n      <th>language</th>\n      <th>mentions</th>\n      <th>urls</th>\n      <th>photos</th>\n      <th>replies_count</th>\n      <th>retweets_count</th>\n      <th>likes_count</th>\n      <th>hashtags</th>\n      <th>cashtags</th>\n      <th>link</th>\n      <th>retweet</th>\n      <th>quote_url</th>\n      <th>video</th>\n      <th>thumbnail</th>\n      <th>near</th>\n      <th>geo</th>\n      <th>source</th>\n      <th>user_rt_id</th>\n      <th>user_rt</th>\n      <th>retweet_id</th>\n      <th>reply_to</th>\n      <th>retweet_date</th>\n      <th>translate</th>\n      <th>trans_src</th>\n      <td>trans_dest</td>\n    </tr>\n    <tr>\n      <th>1434955769229754373</th>\n      <th>1434955769229754373</th>\n      <th>2021-09-06 19:04:50 UTC</th>\n      <th>2021-09-06</th>\n      <th>19:04:50</th>\n      <th>+0000</th>\n      <th>1381318737496838152</th>\n      <th>andreeazxm</th>\n      <th>andreea🤎</th>\n      <th>NaN</th>\n      <th>Tw: depression I was diagnosed with depression for a year and no one from my family knows that. I thought things were getting better till today. I was scared that I can hurt myself in some way. I want to tell my mom but I am scared to see her reactions and I dont know what to do.</th>\n      <th>en</th>\n      <th>[]</th>\n      <th>[]</th>\n      <th>[]</th>\n      <th>3</th>\n      <th>0</th>\n      <th>1</th>\n      <th>[]</th>\n      <th>[]</th>\n      <th>https://twitter.com/andreeazxm/status/1434955769229754373</th>\n      <th>False</th>\n      <th>NaN</th>\n      <th>0</th>\n      <th>NaN</th>\n      <th>NaN</th>\n      <th>NaN</th>\n      <th>NaN</th>\n      <th>NaN</th>\n      <th>NaN</th>\n      <th>NaN</th>\n      <th>[]</th>\n      <th>NaN</th>\n      <th>NaN</th>\n      <th>NaN</th>\n      <td>NaN</td>\n    </tr>\n    <tr>\n      <th>1434945519395106816</th>\n      <th>1434945519395106816</th>\n      <th>2021-09-06 18:24:06 UTC</th>\n      <th>2021-09-06</th>\n      <th>18:24:06</th>\n      <th>+0000</th>\n      <th>757411816079134720</th>\n      <th>generouspanda</th>\n      <th>☕Dàfāng (大方)☕</th>\n      <th>NaN</th>\n      <th>To all the people checking on me yesterday, thank you. For those who don't know I am clinically diagnosed with bi-polar depression and while I have it under control for the most part, this past weekend it spiked hard. I'm doing better today. Thank you all, I don't deserve you.</th>\n      <th>en</th>\n      <th>[]</th>\n      <th>[]</th>\n      <th>[]</th>\n      <th>2</th>\n      <th>0</th>\n      <th>7</th>\n      <th>[]</th>\n      <th>[]</th>\n      <th>https://twitter.com/GenerousPanda/status/1434945519395106816</th>\n      <th>False</th>\n      <th>NaN</th>\n      <th>0</th>\n      <th>NaN</th>\n      <th>NaN</th>\n      <th>NaN</th>\n      <th>NaN</th>\n      <th>NaN</th>\n      <th>NaN</th>\n      <th>NaN</th>\n      <th>[]</th>\n      <th>NaN</th>\n      <th>NaN</th>\n      <th>NaN</th>\n      <td>NaN</td>\n    </tr>\n    <tr>\n      <th>1434869483366088708</th>\n      <th>1434869483366088708</th>\n      <th>2021-09-06 13:21:58 UTC</th>\n      <th>2021-09-06</th>\n      <th>13:21:58</th>\n      <th>+0000</th>\n      <th>408163969</th>\n      <th>annbag2</th>\n      <th>Ann Sproule🌏🔥💧😷</th>\n      <th>NaN</th>\n      <th>What gives you strength and bearing to cope with a young adult with BPD, depression, self harm, most probably (but diagnosed) asd, suicidal, abusive, violent.   Yes, we've had heaps of professional help.  I am almost at my whits end. So sad myself. I love her and I hate her.  FMD</th>\n      <th>en</th>\n      <th>[]</th>\n      <th>[]</th>\n      <th>[]</th>\n      <th>4</th>\n      <th>0</th>\n      <th>7</th>\n      <th>[]</th>\n      <th>[]</th>\n      <th>https://twitter.com/annbag2/status/1434869483366088708</th>\n      <th>False</th>\n      <th>NaN</th>\n      <th>0</th>\n      <th>NaN</th>\n      <th>NaN</th>\n      <th>NaN</th>\n      <th>NaN</th>\n      <th>NaN</th>\n      <th>NaN</th>\n      <th>NaN</th>\n      <th>[]</th>\n      <th>NaN</th>\n      <th>NaN</th>\n      <th>NaN</th>\n      <td>NaN</td>\n    </tr>\n    <tr>\n      <th>1434817177819963394</th>\n      <th>1434709252363390983</th>\n      <th>2021-09-06 09:54:07 UTC</th>\n      <th>2021-09-06</th>\n      <th>09:54:07</th>\n      <th>+0000</th>\n      <th>1317853886871371776</th>\n      <th>moogmarion</th>\n      <th>Marion</th>\n      <th>NaN</th>\n      <th>@SteveWCarlson @12News He was diagnosed  with transient schizophrenia, bipolar disorder, depression and anxiety, the same navy psychologists diagnosed in 2006. Jake is my cousins friend and I am following his story for a long time, Judge Lamberth is a Reagan appointee by the way.</th>\n      <th>en</th>\n      <th>[]</th>\n      <th>[]</th>\n      <th>[]</th>\n      <th>3</th>\n      <th>0</th>\n      <th>0</th>\n      <th>[]</th>\n      <th>[]</th>\n      <th>https://twitter.com/MoogMarion/status/1434817177819963394</th>\n      <th>False</th>\n      <th>NaN</th>\n      <th>0</th>\n      <th>NaN</th>\n      <th>NaN</th>\n      <th>NaN</th>\n      <th>NaN</th>\n      <th>NaN</th>\n      <th>NaN</th>\n      <th>NaN</th>\n      <th>[{'screen_name': 'SteveWCarlson', 'name': 'Senator Steve Carlson 2.022', 'id': '174369590'}, {'screen_name': '12News', 'name': '12 News', 'id': '17187236'}]</th>\n      <th>NaN</th>\n      <th>NaN</th>\n      <th>NaN</th>\n      <td>NaN</td>\n    </tr>\n    <tr>\n      <th>1434774860547330049</th>\n      <th>1434774860547330049</th>\n      <th>2021-09-06 07:05:58 UTC</th>\n      <th>2021-09-06</th>\n      <th>07:05:58</th>\n      <th>+0000</th>\n      <th>759164851319021569</th>\n      <th>discordkittem</th>\n      <th>meow for me</th>\n      <th>NaN</th>\n      <th>i have self diagnosed myself with depression. i am an edgy depressed emo 14 yr old girl. dhmu only real ones know😔🥀💔  https://t.co/ea4kVFwds1</th>\n      <th>en</th>\n      <th>[]</th>\n      <th>[]</th>\n      <th>['https://pbs.twimg.com/media/E-lXVVPVgAEg461.png']</th>\n      <th>5</th>\n      <th>0</th>\n      <th>25</th>\n      <th>[]</th>\n      <th>[]</th>\n      <th>https://twitter.com/discordkittem/status/1434774860547330049</th>\n      <th>False</th>\n      <th>NaN</th>\n      <th>1</th>\n      <th>https://pbs.twimg.com/media/E-lXVVPVgAEg461.png</th>\n      <th>NaN</th>\n      <th>NaN</th>\n      <th>NaN</th>\n      <th>NaN</th>\n      <th>NaN</th>\n      <th>NaN</th>\n      <th>[]</th>\n      <th>NaN</th>\n      <th>NaN</th>\n      <th>NaN</th>\n      <td>NaN</td>\n    </tr>\n    <tr>\n      <th>1434707385159802882</th>\n      <th>1434678401986711554</th>\n      <th>2021-09-06 02:37:50 UTC</th>\n      <th>2021-09-06</th>\n      <th>02:37:50</th>\n      <th>+0000</th>\n      <th>1427264476047319055</th>\n      <th>metal_fuzz</th>\n      <th>MetalFuzz</th>\n      <th>NaN</th>\n      <th>@DollBrat1985 Thank you for reaching out. You are so loved and cared about. That is a big step, I am proud of you. I fought mine for so long and I got diagnosed last year with depression and anxiety. I hated hearing those words, but I was able to put a name on my monster I was fighting. 😘🙏👏</th>\n      <th>en</th>\n      <th>[]</th>\n      <th>[]</th>\n      <th>[]</th>\n      <th>0</th>\n      <th>0</th>\n      <th>1</th>\n      <th>[]</th>\n      <th>[]</th>\n      <th>https://twitter.com/metal_fuzz/status/1434707385159802882</th>\n      <th>False</th>\n      <th>NaN</th>\n      <th>0</th>\n      <th>NaN</th>\n      <th>NaN</th>\n      <th>NaN</th>\n      <th>NaN</th>\n      <th>NaN</th>\n      <th>NaN</th>\n      <th>NaN</th>\n      <th>[{'screen_name': 'DollBrat1985', 'name': '🎀 Doll 🎀', 'id': '1256730189117173760'}]</th>\n      <th>NaN</th>\n      <th>NaN</th>\n      <th>NaN</th>\n      <td>NaN</td>\n    </tr>\n    <tr>\n      <th>1434664575979253760</th>\n      <th>1434664574381219841</th>\n      <th>2021-09-05 23:47:44 UTC</th>\n      <th>2021-09-05</th>\n      <th>23:47:44</th>\n      <th>+0000</th>\n      <th>1253742840330350592</th>\n      <th>lyllicoris</th>\n      <th>llily 🎗️ deja vu</th>\n      <th>NaN</th>\n      <th>for legal reasons, im going to state i am diagnosed with depression /gen</th>\n      <th>en</th>\n      <th>[]</th>\n      <th>[]</th>\n      <th>[]</th>\n      <th>0</th>\n      <th>0</th>\n      <th>0</th>\n      <th>[]</th>\n      <th>[]</th>\n      <th>https://twitter.com/lyllicoris/status/1434664575979253760</th>\n      <th>False</th>\n      <th>NaN</th>\n      <th>0</th>\n      <th>NaN</th>\n      <th>NaN</th>\n      <th>NaN</th>\n      <th>NaN</th>\n      <th>NaN</th>\n      <th>NaN</th>\n      <th>NaN</th>\n      <th>[]</th>\n      <th>NaN</th>\n      <th>NaN</th>\n      <th>NaN</th>\n      <td>NaN</td>\n    </tr>\n    <tr>\n      <th>1434644309282852868</th>\n      <th>1434644309282852868</th>\n      <th>2021-09-05 22:27:12 UTC</th>\n      <th>2021-09-05</th>\n      <th>22:27:12</th>\n      <th>+0000</th>\n      <th>1196920622909206531</th>\n      <th>binkisaur</th>\n      <th>Binki</th>\n      <th>NaN</th>\n      <th>I love when irl friends who I haven’t really seen since I got diagnosed with depression say that if I’m struggling at any point I can talk to them. I am struggling at all points you won’t have the time to listen lmao</th>\n      <th>en</th>\n      <th>[]</th>\n      <th>[]</th>\n      <th>[]</th>\n      <th>1</th>\n      <th>0</th>\n      <th>8</th>\n      <th>[]</th>\n      <th>[]</th>\n      <th>https://twitter.com/binkisaur/status/1434644309282852868</th>\n      <th>False</th>\n      <th>NaN</th>\n      <th>0</th>\n      <th>NaN</th>\n      <th>NaN</th>\n      <th>NaN</th>\n      <th>NaN</th>\n      <th>NaN</th>\n      <th>NaN</th>\n      <th>NaN</th>\n      <th>[]</th>\n      <th>NaN</th>\n      <th>NaN</th>\n      <th>NaN</th>\n      <td>NaN</td>\n    </tr>\n    <tr>\n      <th>1434480199891030022</th>\n      <th>1434480196443328515</th>\n      <th>2021-09-05 11:35:05 UTC</th>\n      <th>2021-09-05</th>\n      <th>11:35:05</th>\n      <th>+0000</th>\n      <th>710648914139942913</th>\n      <th>reclusivebear66</th>\n      <th>Reclusive Bear</th>\n      <th>NaN</th>\n      <th>I got diagnosed with depression last year.  I am in a better place now. Believe me – if I can do it – you can too.   Disclaimer – I’m not a mental health professional. This thread is just a compilation of my own experiences - I know it won't be the same for everyone.</th>\n      <th>en</th>\n      <th>[]</th>\n      <th>[]</th>\n      <th>[]</th>\n      <th>1</th>\n      <th>0</th>\n      <th>0</th>\n      <th>[]</th>\n      <th>[]</th>\n      <th>https://twitter.com/ReclusiveBear66/status/1434480199891030022</th>\n      <th>False</th>\n      <th>NaN</th>\n      <th>0</th>\n      <th>NaN</th>\n      <th>NaN</th>\n      <th>NaN</th>\n      <th>NaN</th>\n      <th>NaN</th>\n      <th>NaN</th>\n      <th>NaN</th>\n      <th>[]</th>\n      <th>NaN</th>\n      <th>NaN</th>\n      <th>NaN</th>\n      <td>NaN</td>\n    </tr>\n  </tbody>\n</table>\n</div>"
          },
          "metadata": {}
        }
      ]
    },
    {
      "cell_type": "code",
      "source": [
        "fighting_depression.head(10)"
      ],
      "metadata": {
        "execution": {
          "iopub.status.busy": "2024-10-06T14:28:43.391424Z",
          "iopub.execute_input": "2024-10-06T14:28:43.391796Z",
          "iopub.status.idle": "2024-10-06T14:28:43.425579Z",
          "shell.execute_reply.started": "2024-10-06T14:28:43.391751Z",
          "shell.execute_reply": "2024-10-06T14:28:43.42458Z"
        },
        "trusted": true,
        "id": "bEzpM9IWxSG5",
        "outputId": "5e3cf3a3-d48b-46f6-e0c9-c12fd758338f"
      },
      "execution_count": null,
      "outputs": [
        {
          "execution_count": 13,
          "output_type": "execute_result",
          "data": {
            "text/plain": "                                                                                                                                                                                                                                                                                                                                                                                                                                                                                                                                             tweet_text\nid                  conversation_id     created_at              date       time     timezone user_id             username      name                                place tweet                                              language mentions urls photos replies_count retweets_count likes_count hashtags cashtags link                                               retweet quote_url video thumbnail near geo source user_rt_id user_rt retweet_id reply_to                                           retweet_date translate trans_src  trans_dest\n1434912344874766336 1434912342228176897 2021-09-06 16:12:17 UTC 2021-09-06 16:12:17 +0000    346387825           vizio32       Daddy Diddlez                       NaN   I have been fighting my depression as it got re... en       []       []   []     1             0              1           []       []       https://twitter.com/vizio32/status/143491234487... False   NaN       0     NaN       NaN  NaN NaN    NaN        NaN     NaN        []                                                 NaN          NaN       NaN               NaN\n1434845574801641473 1434845574801641473 2021-09-06 11:46:57 UTC 2021-09-06 11:46:57 +0000    1023981894          tumisangmo    Champagne Mami                      NaN   I don’t wanna lie ,for the past 3 days I have b... en       []       []   []     0             0              1           []       []       https://twitter.com/TumisangMo/status/143484557... False   NaN       0     NaN       NaN  NaN NaN    NaN        NaN     NaN        []                                                 NaN          NaN       NaN               NaN\n1434707385159802882 1434678401986711554 2021-09-06 02:37:50 UTC 2021-09-06 02:37:50 +0000    1427264476047319055 metal_fuzz    MetalFuzz                           NaN   @DollBrat1985 Thank you for reaching out. You a... en       []       []   []     0             0              1           []       []       https://twitter.com/metal_fuzz/status/143470738... False   NaN       0     NaN       NaN  NaN NaN    NaN        NaN     NaN        [{'screen_name': 'DollBrat1985', 'name': '🎀 Dol... NaN          NaN       NaN               NaN\n1434652964438921231 1434652964438921231 2021-09-05 23:01:35 UTC 2021-09-05 23:01:35 +0000    4836449714          boughscat     whiskers                            NaN   I am fighting demons rn. Fighting off depressio... en       []       []   []     1             0              1           []       []       https://twitter.com/boughscat/status/1434652964... False   NaN       0     NaN       NaN  NaN NaN    NaN        NaN     NaN        []                                                 NaN          NaN       NaN               NaN\n1434600535076769796 1434600535076769796 2021-09-05 19:33:15 UTC 2021-09-05 19:33:15 +0000    543177827           original_lexi Lexi                                NaN   It is SO nice outside and probably only have a ... en       []       []   []     0             0              0           []       []       https://twitter.com/original_lexi/status/143460... False   NaN       0     NaN       NaN  NaN NaN    NaN        NaN     NaN        []                                                 NaN          NaN       NaN               NaN\n1434596133284745230 1434578534274527239 2021-09-05 19:15:46 UTC 2021-09-05 19:15:46 +0000    2205444827          cardoor64     💔                                   NaN   @Hideki_Naganuma I rarely tweet and I am still ... en       []       []   []     1             1              2           []       []       https://twitter.com/CarDoor64/status/1434596133... False   NaN       0     NaN       NaN  NaN NaN    NaN        NaN     NaN        [{'screen_name': 'Hideki_Naganuma', 'name': 'HI... NaN          NaN       NaN               NaN\n1434590982159233024 1434590982159233024 2021-09-05 18:55:18 UTC 2021-09-05 18:55:18 +0000    1263372377842282496 crammmmmmmmm  Priston Galzamio Pajallares         NaN   Those times I created my walls, created my plac... en       []       []   []     0             0              0           []       []       https://twitter.com/Crammmmmmmmm/status/1434590... False   NaN       0     NaN       NaN  NaN NaN    NaN        NaN     NaN        []                                                 NaN          NaN       NaN               NaN\n1434501882194665475 1434501880693014529 2021-09-05 13:01:15 UTC 2021-09-05 13:01:15 +0000    257021076           raziel317     Raziel317 (Only Older and Grumpier) NaN   You get moaned at for helping other people &amp... en       []       []   []     1             0              1           []       []       https://twitter.com/Raziel317/status/1434501882... False   NaN       0     NaN       NaN  NaN NaN    NaN        NaN     NaN        []                                                 NaN          NaN       NaN               NaN\n1434256906281914370 1434256906281914370 2021-09-04 20:47:48 UTC 2021-09-04 20:47:48 +0000    3165058902          gnogup        Čｈυ𝓑𝐀𝓑ㄚ ץ𝐀ℕℕ𝒆                       NaN   Sever depression and moderate anxiety 😔 Keep fi... en       []       []   []     0             0              0           []       []       https://twitter.com/gnogup/status/1434256906281... False   NaN       0     NaN       NaN  NaN NaN    NaN        NaN     NaN        []                                                 NaN          NaN       NaN               NaN",
            "text/html": "<div>\n<style scoped>\n    .dataframe tbody tr th:only-of-type {\n        vertical-align: middle;\n    }\n\n    .dataframe tbody tr th {\n        vertical-align: top;\n    }\n\n    .dataframe thead th {\n        text-align: right;\n    }\n</style>\n<table border=\"1\" class=\"dataframe\">\n  <thead>\n    <tr style=\"text-align: right;\">\n      <th></th>\n      <th></th>\n      <th></th>\n      <th></th>\n      <th></th>\n      <th></th>\n      <th></th>\n      <th></th>\n      <th></th>\n      <th></th>\n      <th></th>\n      <th></th>\n      <th></th>\n      <th></th>\n      <th></th>\n      <th></th>\n      <th></th>\n      <th></th>\n      <th></th>\n      <th></th>\n      <th></th>\n      <th></th>\n      <th></th>\n      <th></th>\n      <th></th>\n      <th></th>\n      <th></th>\n      <th></th>\n      <th></th>\n      <th></th>\n      <th></th>\n      <th></th>\n      <th></th>\n      <th></th>\n      <th></th>\n      <th>tweet_text</th>\n    </tr>\n  </thead>\n  <tbody>\n    <tr>\n      <th>id</th>\n      <th>conversation_id</th>\n      <th>created_at</th>\n      <th>date</th>\n      <th>time</th>\n      <th>timezone</th>\n      <th>user_id</th>\n      <th>username</th>\n      <th>name</th>\n      <th>place</th>\n      <th>tweet</th>\n      <th>language</th>\n      <th>mentions</th>\n      <th>urls</th>\n      <th>photos</th>\n      <th>replies_count</th>\n      <th>retweets_count</th>\n      <th>likes_count</th>\n      <th>hashtags</th>\n      <th>cashtags</th>\n      <th>link</th>\n      <th>retweet</th>\n      <th>quote_url</th>\n      <th>video</th>\n      <th>thumbnail</th>\n      <th>near</th>\n      <th>geo</th>\n      <th>source</th>\n      <th>user_rt_id</th>\n      <th>user_rt</th>\n      <th>retweet_id</th>\n      <th>reply_to</th>\n      <th>retweet_date</th>\n      <th>translate</th>\n      <th>trans_src</th>\n      <td>trans_dest</td>\n    </tr>\n    <tr>\n      <th>1434912344874766336</th>\n      <th>1434912342228176897</th>\n      <th>2021-09-06 16:12:17 UTC</th>\n      <th>2021-09-06</th>\n      <th>16:12:17</th>\n      <th>+0000</th>\n      <th>346387825</th>\n      <th>vizio32</th>\n      <th>Daddy Diddlez</th>\n      <th>NaN</th>\n      <th>I have been fighting my depression as it got really bad during my last job from being way over worked and from being told i was doing a good job one day and then the next day being told i am a crappy worker just cause i told them no about working over time everyday.</th>\n      <th>en</th>\n      <th>[]</th>\n      <th>[]</th>\n      <th>[]</th>\n      <th>1</th>\n      <th>0</th>\n      <th>1</th>\n      <th>[]</th>\n      <th>[]</th>\n      <th>https://twitter.com/vizio32/status/1434912344874766336</th>\n      <th>False</th>\n      <th>NaN</th>\n      <th>0</th>\n      <th>NaN</th>\n      <th>NaN</th>\n      <th>NaN</th>\n      <th>NaN</th>\n      <th>NaN</th>\n      <th>NaN</th>\n      <th>NaN</th>\n      <th>[]</th>\n      <th>NaN</th>\n      <th>NaN</th>\n      <th>NaN</th>\n      <td>NaN</td>\n    </tr>\n    <tr>\n      <th>1434845574801641473</th>\n      <th>1434845574801641473</th>\n      <th>2021-09-06 11:46:57 UTC</th>\n      <th>2021-09-06</th>\n      <th>11:46:57</th>\n      <th>+0000</th>\n      <th>1023981894</th>\n      <th>tumisangmo</th>\n      <th>Champagne Mami</th>\n      <th>NaN</th>\n      <th>I don’t wanna lie ,for the past 3 days I have been myself for some hours in a  day and it feels so good. I am greatful for small wins 😊🥲❤️🌞. Fighting depression is one thing il make sure I don’t ever come back to. I pray a lot !</th>\n      <th>en</th>\n      <th>[]</th>\n      <th>[]</th>\n      <th>[]</th>\n      <th>0</th>\n      <th>0</th>\n      <th>1</th>\n      <th>[]</th>\n      <th>[]</th>\n      <th>https://twitter.com/TumisangMo/status/1434845574801641473</th>\n      <th>False</th>\n      <th>NaN</th>\n      <th>0</th>\n      <th>NaN</th>\n      <th>NaN</th>\n      <th>NaN</th>\n      <th>NaN</th>\n      <th>NaN</th>\n      <th>NaN</th>\n      <th>NaN</th>\n      <th>[]</th>\n      <th>NaN</th>\n      <th>NaN</th>\n      <th>NaN</th>\n      <td>NaN</td>\n    </tr>\n    <tr>\n      <th>1434707385159802882</th>\n      <th>1434678401986711554</th>\n      <th>2021-09-06 02:37:50 UTC</th>\n      <th>2021-09-06</th>\n      <th>02:37:50</th>\n      <th>+0000</th>\n      <th>1427264476047319055</th>\n      <th>metal_fuzz</th>\n      <th>MetalFuzz</th>\n      <th>NaN</th>\n      <th>@DollBrat1985 Thank you for reaching out. You are so loved and cared about. That is a big step, I am proud of you. I fought mine for so long and I got diagnosed last year with depression and anxiety. I hated hearing those words, but I was able to put a name on my monster I was fighting. 😘🙏👏</th>\n      <th>en</th>\n      <th>[]</th>\n      <th>[]</th>\n      <th>[]</th>\n      <th>0</th>\n      <th>0</th>\n      <th>1</th>\n      <th>[]</th>\n      <th>[]</th>\n      <th>https://twitter.com/metal_fuzz/status/1434707385159802882</th>\n      <th>False</th>\n      <th>NaN</th>\n      <th>0</th>\n      <th>NaN</th>\n      <th>NaN</th>\n      <th>NaN</th>\n      <th>NaN</th>\n      <th>NaN</th>\n      <th>NaN</th>\n      <th>NaN</th>\n      <th>[{'screen_name': 'DollBrat1985', 'name': '🎀 Doll 🎀', 'id': '1256730189117173760'}]</th>\n      <th>NaN</th>\n      <th>NaN</th>\n      <th>NaN</th>\n      <td>NaN</td>\n    </tr>\n    <tr>\n      <th>1434652964438921231</th>\n      <th>1434652964438921231</th>\n      <th>2021-09-05 23:01:35 UTC</th>\n      <th>2021-09-05</th>\n      <th>23:01:35</th>\n      <th>+0000</th>\n      <th>4836449714</th>\n      <th>boughscat</th>\n      <th>whiskers</th>\n      <th>NaN</th>\n      <th>I am fighting demons rn. Fighting off depression with beer. Probably will close in on 100 drinks this weekend. And that’s not me bragging it’s me begging for help. Where is my wife</th>\n      <th>en</th>\n      <th>[]</th>\n      <th>[]</th>\n      <th>[]</th>\n      <th>1</th>\n      <th>0</th>\n      <th>1</th>\n      <th>[]</th>\n      <th>[]</th>\n      <th>https://twitter.com/boughscat/status/1434652964438921231</th>\n      <th>False</th>\n      <th>NaN</th>\n      <th>0</th>\n      <th>NaN</th>\n      <th>NaN</th>\n      <th>NaN</th>\n      <th>NaN</th>\n      <th>NaN</th>\n      <th>NaN</th>\n      <th>NaN</th>\n      <th>[]</th>\n      <th>NaN</th>\n      <th>NaN</th>\n      <th>NaN</th>\n      <td>NaN</td>\n    </tr>\n    <tr>\n      <th>1434600535076769796</th>\n      <th>1434600535076769796</th>\n      <th>2021-09-05 19:33:15 UTC</th>\n      <th>2021-09-05</th>\n      <th>19:33:15</th>\n      <th>+0000</th>\n      <th>543177827</th>\n      <th>original_lexi</th>\n      <th>Lexi</th>\n      <th>NaN</th>\n      <th>It is SO nice outside and probably only have a few of these days left until shit season.   And I am literally fighting with myself to get my ass up and take my kids outside so they can enjoy it. Feeling like a shit mom.  Depression really really sucks.</th>\n      <th>en</th>\n      <th>[]</th>\n      <th>[]</th>\n      <th>[]</th>\n      <th>0</th>\n      <th>0</th>\n      <th>0</th>\n      <th>[]</th>\n      <th>[]</th>\n      <th>https://twitter.com/original_lexi/status/1434600535076769796</th>\n      <th>False</th>\n      <th>NaN</th>\n      <th>0</th>\n      <th>NaN</th>\n      <th>NaN</th>\n      <th>NaN</th>\n      <th>NaN</th>\n      <th>NaN</th>\n      <th>NaN</th>\n      <th>NaN</th>\n      <th>[]</th>\n      <th>NaN</th>\n      <th>NaN</th>\n      <th>NaN</th>\n      <td>NaN</td>\n    </tr>\n    <tr>\n      <th>1434596133284745230</th>\n      <th>1434578534274527239</th>\n      <th>2021-09-05 19:15:46 UTC</th>\n      <th>2021-09-05</th>\n      <th>19:15:46</th>\n      <th>+0000</th>\n      <th>2205444827</th>\n      <th>cardoor64</th>\n      <th>💔</th>\n      <th>NaN</th>\n      <th>@Hideki_Naganuma I rarely tweet and I am still fighting crippling depression Sensei naganuma</th>\n      <th>en</th>\n      <th>[]</th>\n      <th>[]</th>\n      <th>[]</th>\n      <th>1</th>\n      <th>1</th>\n      <th>2</th>\n      <th>[]</th>\n      <th>[]</th>\n      <th>https://twitter.com/CarDoor64/status/1434596133284745230</th>\n      <th>False</th>\n      <th>NaN</th>\n      <th>0</th>\n      <th>NaN</th>\n      <th>NaN</th>\n      <th>NaN</th>\n      <th>NaN</th>\n      <th>NaN</th>\n      <th>NaN</th>\n      <th>NaN</th>\n      <th>[{'screen_name': 'Hideki_Naganuma', 'name': 'HIDEKI NAGANUMA｜CEO OF FUNKY FRESH BEATS', 'id': '150522620'}]</th>\n      <th>NaN</th>\n      <th>NaN</th>\n      <th>NaN</th>\n      <td>NaN</td>\n    </tr>\n    <tr>\n      <th>1434590982159233024</th>\n      <th>1434590982159233024</th>\n      <th>2021-09-05 18:55:18 UTC</th>\n      <th>2021-09-05</th>\n      <th>18:55:18</th>\n      <th>+0000</th>\n      <th>1263372377842282496</th>\n      <th>crammmmmmmmm</th>\n      <th>Priston Galzamio Pajallares</th>\n      <th>NaN</th>\n      <th>Those times I created my walls, created my place, crying every night, having the anxiety and depression, wanted to finish my life...Here I am right now, on the straight road, having good progress. I grew, in every aspect. Who knows what will happen after a tiring day? Fighting!</th>\n      <th>en</th>\n      <th>[]</th>\n      <th>[]</th>\n      <th>[]</th>\n      <th>0</th>\n      <th>0</th>\n      <th>0</th>\n      <th>[]</th>\n      <th>[]</th>\n      <th>https://twitter.com/Crammmmmmmmm/status/1434590982159233024</th>\n      <th>False</th>\n      <th>NaN</th>\n      <th>0</th>\n      <th>NaN</th>\n      <th>NaN</th>\n      <th>NaN</th>\n      <th>NaN</th>\n      <th>NaN</th>\n      <th>NaN</th>\n      <th>NaN</th>\n      <th>[]</th>\n      <th>NaN</th>\n      <th>NaN</th>\n      <th>NaN</th>\n      <td>NaN</td>\n    </tr>\n    <tr>\n      <th>1434501882194665475</th>\n      <th>1434501880693014529</th>\n      <th>2021-09-05 13:01:15 UTC</th>\n      <th>2021-09-05</th>\n      <th>13:01:15</th>\n      <th>+0000</th>\n      <th>257021076</th>\n      <th>raziel317</th>\n      <th>Raziel317 (Only Older and Grumpier)</th>\n      <th>NaN</th>\n      <th>You get moaned at for helping other people &amp;amp; not person x, you try to help person x &amp;amp; you get ignored or told \"It's fine\" or just about anything that stops you helping.  FUCK LIFE, I am so sick &amp;amp; tired of fighting depression, pain, longingness for it to all end, for this reward.</th>\n      <th>en</th>\n      <th>[]</th>\n      <th>[]</th>\n      <th>[]</th>\n      <th>1</th>\n      <th>0</th>\n      <th>1</th>\n      <th>[]</th>\n      <th>[]</th>\n      <th>https://twitter.com/Raziel317/status/1434501882194665475</th>\n      <th>False</th>\n      <th>NaN</th>\n      <th>0</th>\n      <th>NaN</th>\n      <th>NaN</th>\n      <th>NaN</th>\n      <th>NaN</th>\n      <th>NaN</th>\n      <th>NaN</th>\n      <th>NaN</th>\n      <th>[]</th>\n      <th>NaN</th>\n      <th>NaN</th>\n      <th>NaN</th>\n      <td>NaN</td>\n    </tr>\n    <tr>\n      <th>1434256906281914370</th>\n      <th>1434256906281914370</th>\n      <th>2021-09-04 20:47:48 UTC</th>\n      <th>2021-09-04</th>\n      <th>20:47:48</th>\n      <th>+0000</th>\n      <th>3165058902</th>\n      <th>gnogup</th>\n      <th>Čｈυ𝓑𝐀𝓑ㄚ ץ𝐀ℕℕ𝒆</th>\n      <th>NaN</th>\n      <th>Sever depression and moderate anxiety 😔 Keep fighting self. Keep praying, you'll get through all of this.  When can I get courage to tell my Fam what i am going through? I cant even tell my partner so he could better understand why I easily get mad whenever I talk to him.</th>\n      <th>en</th>\n      <th>[]</th>\n      <th>[]</th>\n      <th>[]</th>\n      <th>0</th>\n      <th>0</th>\n      <th>0</th>\n      <th>[]</th>\n      <th>[]</th>\n      <th>https://twitter.com/gnogup/status/1434256906281914370</th>\n      <th>False</th>\n      <th>NaN</th>\n      <th>0</th>\n      <th>NaN</th>\n      <th>NaN</th>\n      <th>NaN</th>\n      <th>NaN</th>\n      <th>NaN</th>\n      <th>NaN</th>\n      <th>NaN</th>\n      <th>[]</th>\n      <th>NaN</th>\n      <th>NaN</th>\n      <th>NaN</th>\n      <td>NaN</td>\n    </tr>\n  </tbody>\n</table>\n</div>"
          },
          "metadata": {}
        }
      ]
    },
    {
      "cell_type": "code",
      "source": [
        "suffering_depression.head(10)"
      ],
      "metadata": {
        "execution": {
          "iopub.status.busy": "2024-10-06T14:28:43.42739Z",
          "iopub.execute_input": "2024-10-06T14:28:43.427736Z",
          "iopub.status.idle": "2024-10-06T14:28:43.465721Z",
          "shell.execute_reply.started": "2024-10-06T14:28:43.427703Z",
          "shell.execute_reply": "2024-10-06T14:28:43.464598Z"
        },
        "trusted": true,
        "id": "cMthaBSvxSG5",
        "outputId": "d24b7726-fba8-4b5f-ca76-d337e53d810d"
      },
      "execution_count": null,
      "outputs": [
        {
          "execution_count": 14,
          "output_type": "execute_result",
          "data": {
            "text/plain": "                                                                                                                                                                                                                                                                                                                                                                                                                                                                                                                                                                                                                                                     tweet_text\nid                  conversation_id     created_at              date       time     timezone user_id             username       name                                               place tweet                                              language mentions                                           urls                                               photos replies_count retweets_count likes_count hashtags cashtags link                                               retweet quote_url video thumbnail near geo source user_rt_id user_rt retweet_id reply_to                                           retweet_date translate trans_src  trans_dest\n1434999854221209603 1434999854221209603 2021-09-06 22:00:00 UTC 2021-09-06 22:00:00 +0000    366063848           trojanviper    Often Ryan ~ OccasionallyEmma ~ ConstantlyEvolving NaN   Do you \"go through\"( I don't say, \"suffer from ... en       []                                                 ['https://fb.watch/7Si4gwG8Ha/']                   []     0             0              0           []       []       https://twitter.com/TrojanViper/status/14349998... False   NaN       0     NaN       NaN  NaN NaN    NaN        NaN     NaN        []                                                 NaN          NaN       NaN               NaN\n1434991368296927234 1434973578630422536 2021-09-06 21:26:17 UTC 2021-09-06 21:26:17 +0000    1410047691388825605 whiteyy18lover whiteyy18lover💙👄                                   NaN   @CarlaRenae31 Sister....I do that too. I suffer... en       []                                                 []                                                 []     1             0              1           []       []       https://twitter.com/whiteyy18lover/status/14349... False   NaN       0     NaN       NaN  NaN NaN    NaN        NaN     NaN        [{'screen_name': 'CarlaRenae31', 'name': 'Carla... NaN          NaN       NaN               NaN\n1434990851122294784 1434990851122294784 2021-09-06 21:24:14 UTC 2021-09-06 21:24:14 +0000    1353858144238145536 ihlersheri     Sheri Has Fucking Had It!                          NaN   I suffer from Chronic Depression -- here's a so... en       [{'screen_name': 'youtubemusic', 'name': 'youtu... ['https://music.youtube.com/watch?v=tjK8zK3TMJc... []     0             0              1           []       []       https://twitter.com/IhlerSheri/status/143499085... False   NaN       0     NaN       NaN  NaN NaN    NaN        NaN     NaN        []                                                 NaN          NaN       NaN               NaN\n1434988985533747205 1434959258127421442 2021-09-06 21:16:49 UTC 2021-09-06 21:16:49 +0000    1295300897350787072 ruslunam_art   Russ 🐺🌕                                            NaN   @StarboyNear I suffer from depression and am re... en       []                                                 []                                                 []     0             0              0           []       []       https://twitter.com/RusLunam_art/status/1434988... False   NaN       0     NaN       NaN  NaN NaN    NaN        NaN     NaN        [{'screen_name': 'StarboyNear', 'name': '𝔑𝔢𝔞𝔯𝔪𝔬... NaN          NaN       NaN               NaN\n1434987168997408769 1434984360189435904 2021-09-06 21:09:36 UTC 2021-09-06 21:09:36 +0000    487634550           zycr9          Zycr9👈👦👉#BlueWave✊🇺🇸✊                              NaN   @girlconundrum When U feel like 👆please watch s... en       []                                                 []                                                 []     0             0              1           []       []       https://twitter.com/zycr9/status/14349871689974... False   NaN       0     NaN       NaN  NaN NaN    NaN        NaN     NaN        [{'screen_name': 'girlconundrum', 'name': 'Girl... NaN          NaN       NaN               NaN\n1434979755967746053 1434911719646707716 2021-09-06 20:40:09 UTC 2021-09-06 20:40:09 +0000    1380641789862764544 helena_boxing  BoxingHelena                                       NaN   @geostylegeo New research will always change th... en       []                                                 []                                                 []     0             0              0           []       []       https://twitter.com/helena_boxing/status/143497... False   NaN       0     NaN       NaN  NaN NaN    NaN        NaN     NaN        [{'screen_name': 'geostylegeo', 'name': 'George... NaN          NaN       NaN               NaN\n1434971204188876806 1434963615891722256 2021-09-06 20:06:10 UTC 2021-09-06 20:06:10 +0000    70669025            bakednotfried1 baked ⛽                                            NaN   @TrixieReaper I suffer from depression as well ... en       []                                                 []                                                 []     0             0              0           []       []       https://twitter.com/bakednotfried1/status/14349... False   NaN       0     NaN       NaN  NaN NaN    NaN        NaN     NaN        [{'screen_name': 'TrixieReaper', 'name': 'EM0 B... NaN          NaN       NaN               NaN\n1434955176083918848 1434950680918196225 2021-09-06 19:02:28 UTC 2021-09-06 19:02:28 +0000    75707477            leighhartley   Leigh Hartley ✡ Thrice-vaccinated.                 NaN   @beauty2streetz I suffer from devastating depre... en       []                                                 []                                                 []     1             0              41          []       []       https://twitter.com/LeighHartley/status/1434955... False   NaN       0     NaN       NaN  NaN NaN    NaN        NaN     NaN        [{'screen_name': 'beauty2streetz', 'name': 'Shi... NaN          NaN       NaN               NaN\n1434952774144258052 1422512871552937985 2021-09-06 18:52:56 UTC 2021-09-06 18:52:56 +0000    1290934396006985728 _banisha_      𝙱𝚞𝚗💫                                               NaN   @CARROTBUNK00 What? U kidding right? It's not s... en       []                                                 []                                                 []     1             0              1           []       []       https://twitter.com/_banisha_/status/1434952774... False   NaN       0     NaN       NaN  NaN NaN    NaN        NaN     NaN        [{'screen_name': 'CARROTBUNK00', 'name': \"yoong... NaN          NaN       NaN               NaN",
            "text/html": "<div>\n<style scoped>\n    .dataframe tbody tr th:only-of-type {\n        vertical-align: middle;\n    }\n\n    .dataframe tbody tr th {\n        vertical-align: top;\n    }\n\n    .dataframe thead th {\n        text-align: right;\n    }\n</style>\n<table border=\"1\" class=\"dataframe\">\n  <thead>\n    <tr style=\"text-align: right;\">\n      <th></th>\n      <th></th>\n      <th></th>\n      <th></th>\n      <th></th>\n      <th></th>\n      <th></th>\n      <th></th>\n      <th></th>\n      <th></th>\n      <th></th>\n      <th></th>\n      <th></th>\n      <th></th>\n      <th></th>\n      <th></th>\n      <th></th>\n      <th></th>\n      <th></th>\n      <th></th>\n      <th></th>\n      <th></th>\n      <th></th>\n      <th></th>\n      <th></th>\n      <th></th>\n      <th></th>\n      <th></th>\n      <th></th>\n      <th></th>\n      <th></th>\n      <th></th>\n      <th></th>\n      <th></th>\n      <th></th>\n      <th>tweet_text</th>\n    </tr>\n  </thead>\n  <tbody>\n    <tr>\n      <th>id</th>\n      <th>conversation_id</th>\n      <th>created_at</th>\n      <th>date</th>\n      <th>time</th>\n      <th>timezone</th>\n      <th>user_id</th>\n      <th>username</th>\n      <th>name</th>\n      <th>place</th>\n      <th>tweet</th>\n      <th>language</th>\n      <th>mentions</th>\n      <th>urls</th>\n      <th>photos</th>\n      <th>replies_count</th>\n      <th>retweets_count</th>\n      <th>likes_count</th>\n      <th>hashtags</th>\n      <th>cashtags</th>\n      <th>link</th>\n      <th>retweet</th>\n      <th>quote_url</th>\n      <th>video</th>\n      <th>thumbnail</th>\n      <th>near</th>\n      <th>geo</th>\n      <th>source</th>\n      <th>user_rt_id</th>\n      <th>user_rt</th>\n      <th>retweet_id</th>\n      <th>reply_to</th>\n      <th>retweet_date</th>\n      <th>translate</th>\n      <th>trans_src</th>\n      <td>trans_dest</td>\n    </tr>\n    <tr>\n      <th>1434999854221209603</th>\n      <th>1434999854221209603</th>\n      <th>2021-09-06 22:00:00 UTC</th>\n      <th>2021-09-06</th>\n      <th>22:00:00</th>\n      <th>+0000</th>\n      <th>366063848</th>\n      <th>trojanviper</th>\n      <th>Often Ryan ~ OccasionallyEmma ~ ConstantlyEvolving</th>\n      <th>NaN</th>\n      <th>Do you \"go through\"( I don't say, \"suffer from depression\"), anxiety? https://t.co/ri2UizESdW</th>\n      <th>en</th>\n      <th>[]</th>\n      <th>['https://fb.watch/7Si4gwG8Ha/']</th>\n      <th>[]</th>\n      <th>0</th>\n      <th>0</th>\n      <th>0</th>\n      <th>[]</th>\n      <th>[]</th>\n      <th>https://twitter.com/TrojanViper/status/1434999854221209603</th>\n      <th>False</th>\n      <th>NaN</th>\n      <th>0</th>\n      <th>NaN</th>\n      <th>NaN</th>\n      <th>NaN</th>\n      <th>NaN</th>\n      <th>NaN</th>\n      <th>NaN</th>\n      <th>NaN</th>\n      <th>[]</th>\n      <th>NaN</th>\n      <th>NaN</th>\n      <th>NaN</th>\n      <td>NaN</td>\n    </tr>\n    <tr>\n      <th>1434991368296927234</th>\n      <th>1434973578630422536</th>\n      <th>2021-09-06 21:26:17 UTC</th>\n      <th>2021-09-06</th>\n      <th>21:26:17</th>\n      <th>+0000</th>\n      <th>1410047691388825605</th>\n      <th>whiteyy18lover</th>\n      <th>whiteyy18lover💙👄</th>\n      <th>NaN</th>\n      <th>@CarlaRenae31 Sister....I do that too. I suffer from severe depression, anxiety and PTSD and I have always used humor (usually sarcastic humor 😂) to deal with what I'm feeling. You sound just like me girl. Are we twins 😂lol</th>\n      <th>en</th>\n      <th>[]</th>\n      <th>[]</th>\n      <th>[]</th>\n      <th>1</th>\n      <th>0</th>\n      <th>1</th>\n      <th>[]</th>\n      <th>[]</th>\n      <th>https://twitter.com/whiteyy18lover/status/1434991368296927234</th>\n      <th>False</th>\n      <th>NaN</th>\n      <th>0</th>\n      <th>NaN</th>\n      <th>NaN</th>\n      <th>NaN</th>\n      <th>NaN</th>\n      <th>NaN</th>\n      <th>NaN</th>\n      <th>NaN</th>\n      <th>[{'screen_name': 'CarlaRenae31', 'name': 'CarlaRenae831', 'id': '1412559795983470595'}]</th>\n      <th>NaN</th>\n      <th>NaN</th>\n      <th>NaN</th>\n      <td>NaN</td>\n    </tr>\n    <tr>\n      <th>1434990851122294784</th>\n      <th>1434990851122294784</th>\n      <th>2021-09-06 21:24:14 UTC</th>\n      <th>2021-09-06</th>\n      <th>21:24:14</th>\n      <th>+0000</th>\n      <th>1353858144238145536</th>\n      <th>ihlersheri</th>\n      <th>Sheri Has Fucking Had It!</th>\n      <th>NaN</th>\n      <th>I suffer from Chronic Depression -- here's a song for my fellow sufferers...  Jumper (1998 Edit)  https://t.co/QuNZkWx6ut via @YouTubeMusic</th>\n      <th>en</th>\n      <th>[{'screen_name': 'youtubemusic', 'name': 'youtube music', 'id': '880142286176231425'}]</th>\n      <th>['https://music.youtube.com/watch?v=tjK8zK3TMJc&amp;feature=share']</th>\n      <th>[]</th>\n      <th>0</th>\n      <th>0</th>\n      <th>1</th>\n      <th>[]</th>\n      <th>[]</th>\n      <th>https://twitter.com/IhlerSheri/status/1434990851122294784</th>\n      <th>False</th>\n      <th>NaN</th>\n      <th>0</th>\n      <th>NaN</th>\n      <th>NaN</th>\n      <th>NaN</th>\n      <th>NaN</th>\n      <th>NaN</th>\n      <th>NaN</th>\n      <th>NaN</th>\n      <th>[]</th>\n      <th>NaN</th>\n      <th>NaN</th>\n      <th>NaN</th>\n      <td>NaN</td>\n    </tr>\n    <tr>\n      <th>1434988985533747205</th>\n      <th>1434959258127421442</th>\n      <th>2021-09-06 21:16:49 UTC</th>\n      <th>2021-09-06</th>\n      <th>21:16:49</th>\n      <th>+0000</th>\n      <th>1295300897350787072</th>\n      <th>ruslunam_art</th>\n      <th>Russ 🐺🌕</th>\n      <th>NaN</th>\n      <th>@StarboyNear I suffer from depression and am really struggling everyday just to be here, however many people seem to take joy in making everything harder and hurting me. I want to move on but problems keep adding up and I'm exhausted.</th>\n      <th>en</th>\n      <th>[]</th>\n      <th>[]</th>\n      <th>[]</th>\n      <th>0</th>\n      <th>0</th>\n      <th>0</th>\n      <th>[]</th>\n      <th>[]</th>\n      <th>https://twitter.com/RusLunam_art/status/1434988985533747205</th>\n      <th>False</th>\n      <th>NaN</th>\n      <th>0</th>\n      <th>NaN</th>\n      <th>NaN</th>\n      <th>NaN</th>\n      <th>NaN</th>\n      <th>NaN</th>\n      <th>NaN</th>\n      <th>NaN</th>\n      <th>[{'screen_name': 'StarboyNear', 'name': '𝔑𝔢𝔞𝔯𝔪𝔬𝔬𝔫', 'id': '4860493286'}]</th>\n      <th>NaN</th>\n      <th>NaN</th>\n      <th>NaN</th>\n      <td>NaN</td>\n    </tr>\n    <tr>\n      <th>1434987168997408769</th>\n      <th>1434984360189435904</th>\n      <th>2021-09-06 21:09:36 UTC</th>\n      <th>2021-09-06</th>\n      <th>21:09:36</th>\n      <th>+0000</th>\n      <th>487634550</th>\n      <th>zycr9</th>\n      <th>Zycr9👈👦👉#BlueWave✊🇺🇸✊</th>\n      <th>NaN</th>\n      <th>@girlconundrum When U feel like 👆please watch something you like or listen to Ur favorite music or go for a walk or talk to Ur friends &amp;amp; family. But please keep your mind busy 🙏😔  I suffer from depression &amp;amp; I feel like 👆 all the time. So I keep trying different things to escape my thoughts</th>\n      <th>en</th>\n      <th>[]</th>\n      <th>[]</th>\n      <th>[]</th>\n      <th>0</th>\n      <th>0</th>\n      <th>1</th>\n      <th>[]</th>\n      <th>[]</th>\n      <th>https://twitter.com/zycr9/status/1434987168997408769</th>\n      <th>False</th>\n      <th>NaN</th>\n      <th>0</th>\n      <th>NaN</th>\n      <th>NaN</th>\n      <th>NaN</th>\n      <th>NaN</th>\n      <th>NaN</th>\n      <th>NaN</th>\n      <th>NaN</th>\n      <th>[{'screen_name': 'girlconundrum', 'name': 'Girl Conundrum 💙🌊#VaxMeAgain!💉', 'id': '3311799854'}]</th>\n      <th>NaN</th>\n      <th>NaN</th>\n      <th>NaN</th>\n      <td>NaN</td>\n    </tr>\n    <tr>\n      <th>1434979755967746053</th>\n      <th>1434911719646707716</th>\n      <th>2021-09-06 20:40:09 UTC</th>\n      <th>2021-09-06</th>\n      <th>20:40:09</th>\n      <th>+0000</th>\n      <th>1380641789862764544</th>\n      <th>helena_boxing</th>\n      <th>BoxingHelena</th>\n      <th>NaN</th>\n      <th>@geostylegeo New research will always change the way we think about depression! I think the more people who are educated about depression the better off they will be in understanding about depression! People who suffer from depression need extra care and unconditional love!</th>\n      <th>en</th>\n      <th>[]</th>\n      <th>[]</th>\n      <th>[]</th>\n      <th>0</th>\n      <th>0</th>\n      <th>0</th>\n      <th>[]</th>\n      <th>[]</th>\n      <th>https://twitter.com/helena_boxing/status/1434979755967746053</th>\n      <th>False</th>\n      <th>NaN</th>\n      <th>0</th>\n      <th>NaN</th>\n      <th>NaN</th>\n      <th>NaN</th>\n      <th>NaN</th>\n      <th>NaN</th>\n      <th>NaN</th>\n      <th>NaN</th>\n      <th>[{'screen_name': 'geostylegeo', 'name': 'George Styles', 'id': '18584590'}]</th>\n      <th>NaN</th>\n      <th>NaN</th>\n      <th>NaN</th>\n      <td>NaN</td>\n    </tr>\n    <tr>\n      <th>1434971204188876806</th>\n      <th>1434963615891722256</th>\n      <th>2021-09-06 20:06:10 UTC</th>\n      <th>2021-09-06</th>\n      <th>20:06:10</th>\n      <th>+0000</th>\n      <th>70669025</th>\n      <th>bakednotfried1</th>\n      <th>baked ⛽</th>\n      <th>NaN</th>\n      <th>@TrixieReaper I suffer from depression as well but good weed helps</th>\n      <th>en</th>\n      <th>[]</th>\n      <th>[]</th>\n      <th>[]</th>\n      <th>0</th>\n      <th>0</th>\n      <th>0</th>\n      <th>[]</th>\n      <th>[]</th>\n      <th>https://twitter.com/bakednotfried1/status/1434971204188876806</th>\n      <th>False</th>\n      <th>NaN</th>\n      <th>0</th>\n      <th>NaN</th>\n      <th>NaN</th>\n      <th>NaN</th>\n      <th>NaN</th>\n      <th>NaN</th>\n      <th>NaN</th>\n      <th>NaN</th>\n      <th>[{'screen_name': 'TrixieReaper', 'name': 'EM0 BiMB0 PRiNCE$$', 'id': '1044326789563260928'}]</th>\n      <th>NaN</th>\n      <th>NaN</th>\n      <th>NaN</th>\n      <td>NaN</td>\n    </tr>\n    <tr>\n      <th>1434955176083918848</th>\n      <th>1434950680918196225</th>\n      <th>2021-09-06 19:02:28 UTC</th>\n      <th>2021-09-06</th>\n      <th>19:02:28</th>\n      <th>+0000</th>\n      <th>75707477</th>\n      <th>leighhartley</th>\n      <th>Leigh Hartley ✡ Thrice-vaccinated.</th>\n      <th>NaN</th>\n      <th>@beauty2streetz I suffer from devastating depression. Your words always get through to me. I'm sorry beyond words about your Baby, Shirley. Always. You are his living legacy. The work you do is always colored with his beautiful radiance.</th>\n      <th>en</th>\n      <th>[]</th>\n      <th>[]</th>\n      <th>[]</th>\n      <th>1</th>\n      <th>0</th>\n      <th>41</th>\n      <th>[]</th>\n      <th>[]</th>\n      <th>https://twitter.com/LeighHartley/status/1434955176083918848</th>\n      <th>False</th>\n      <th>NaN</th>\n      <th>0</th>\n      <th>NaN</th>\n      <th>NaN</th>\n      <th>NaN</th>\n      <th>NaN</th>\n      <th>NaN</th>\n      <th>NaN</th>\n      <th>NaN</th>\n      <th>[{'screen_name': 'beauty2streetz', 'name': 'Shirley Raines', 'id': '336181825'}]</th>\n      <th>NaN</th>\n      <th>NaN</th>\n      <th>NaN</th>\n      <td>NaN</td>\n    </tr>\n    <tr>\n      <th>1434952774144258052</th>\n      <th>1422512871552937985</th>\n      <th>2021-09-06 18:52:56 UTC</th>\n      <th>2021-09-06</th>\n      <th>18:52:56</th>\n      <th>+0000</th>\n      <th>1290934396006985728</th>\n      <th>_banisha_</th>\n      <th>𝙱𝚞𝚗💫</th>\n      <th>NaN</th>\n      <th>@CARROTBUNK00 What? U kidding right? It's not something to joke about dude.. Ur joking about a miscarriage. Bestie I'm sorry i saw one of my close relative to suffer and die from depression after having a miscarriage.. I am unfollowing you..</th>\n      <th>en</th>\n      <th>[]</th>\n      <th>[]</th>\n      <th>[]</th>\n      <th>1</th>\n      <th>0</th>\n      <th>1</th>\n      <th>[]</th>\n      <th>[]</th>\n      <th>https://twitter.com/_banisha_/status/1434952774144258052</th>\n      <th>False</th>\n      <th>NaN</th>\n      <th>0</th>\n      <th>NaN</th>\n      <th>NaN</th>\n      <th>NaN</th>\n      <th>NaN</th>\n      <th>NaN</th>\n      <th>NaN</th>\n      <th>NaN</th>\n      <th>[{'screen_name': 'CARROTBUNK00', 'name': \"yoongi's gf\", 'id': '1356413038656544770'}]</th>\n      <th>NaN</th>\n      <th>NaN</th>\n      <th>NaN</th>\n      <td>NaN</td>\n    </tr>\n  </tbody>\n</table>\n</div>"
          },
          "metadata": {}
        }
      ]
    },
    {
      "cell_type": "code",
      "source": [
        "with open(tweetdata_txt_path, 'r', encoding='utf-8') as file:\n",
        "    tweetdata_txt = pd.DataFrame(file.readlines(), columns=['tweet_text'])"
      ],
      "metadata": {
        "execution": {
          "iopub.status.busy": "2024-10-06T14:28:43.466893Z",
          "iopub.execute_input": "2024-10-06T14:28:43.467268Z",
          "iopub.status.idle": "2024-10-06T14:28:55.060809Z",
          "shell.execute_reply.started": "2024-10-06T14:28:43.467232Z",
          "shell.execute_reply": "2024-10-06T14:28:55.059773Z"
        },
        "trusted": true,
        "id": "I5BqIf0fxSG5"
      },
      "execution_count": null,
      "outputs": []
    },
    {
      "cell_type": "code",
      "source": [
        "tweetdata_txt['tweet_text'] = tweetdata_txt['tweet_text'].str.strip()"
      ],
      "metadata": {
        "execution": {
          "iopub.status.busy": "2024-10-06T14:28:55.062213Z",
          "iopub.execute_input": "2024-10-06T14:28:55.062615Z",
          "iopub.status.idle": "2024-10-06T14:28:55.900741Z",
          "shell.execute_reply.started": "2024-10-06T14:28:55.062569Z",
          "shell.execute_reply": "2024-10-06T14:28:55.899876Z"
        },
        "trusted": true,
        "id": "9lBBrK5lxSG6"
      },
      "execution_count": null,
      "outputs": []
    },
    {
      "cell_type": "code",
      "source": [
        "print(tweetdata_txt)"
      ],
      "metadata": {
        "execution": {
          "iopub.status.busy": "2024-10-06T14:28:55.903105Z",
          "iopub.execute_input": "2024-10-06T14:28:55.903432Z",
          "iopub.status.idle": "2024-10-06T14:28:55.941583Z",
          "shell.execute_reply.started": "2024-10-06T14:28:55.903398Z",
          "shell.execute_reply": "2024-10-06T14:28:55.940656Z"
        },
        "trusted": true,
        "id": "EtBYO849xSG6",
        "outputId": "539ef5e3-cfbf-47b5-e4d8-7c06878db9ce"
      },
      "execution_count": null,
      "outputs": [
        {
          "name": "stdout",
          "text": "                                               tweet_text\n0       {\"created_at\":\"Sat May 16 18:12:31 +0000 2020\"...\n1                                                        \n2       {\"created_at\":\"Sat May 16 18:12:31 +0000 2020\"...\n3                                                        \n4       {\"created_at\":\"Sat May 16 18:12:31 +0000 2020\"...\n...                                                   ...\n320903                                                   \n320904  {\"created_at\":\"Sat May 16 20:49:56 +0000 2020\"...\n320905                                                   \n320906  {\"created_at\":\"Sat May 16 20:49:56 +0000 2020\"...\n320907                                                   \n\n[320908 rows x 1 columns]\n",
          "output_type": "stream"
        }
      ]
    },
    {
      "cell_type": "code",
      "source": [
        "depressive_processed = pd.read_csv(depressive_processed_path, names=['tweet_text'])"
      ],
      "metadata": {
        "execution": {
          "iopub.status.busy": "2024-10-06T14:28:55.943164Z",
          "iopub.execute_input": "2024-10-06T14:28:55.943655Z",
          "iopub.status.idle": "2024-10-06T14:28:56.015687Z",
          "shell.execute_reply.started": "2024-10-06T14:28:55.943586Z",
          "shell.execute_reply": "2024-10-06T14:28:56.014978Z"
        },
        "trusted": true,
        "id": "wGrYe83yxSG6"
      },
      "execution_count": null,
      "outputs": []
    },
    {
      "cell_type": "code",
      "source": [
        "depressive_processed.head(10)"
      ],
      "metadata": {
        "execution": {
          "iopub.status.busy": "2024-10-06T14:28:56.048461Z",
          "iopub.execute_input": "2024-10-06T14:28:56.048774Z",
          "iopub.status.idle": "2024-10-06T14:28:56.078563Z",
          "shell.execute_reply.started": "2024-10-06T14:28:56.048739Z",
          "shell.execute_reply": "2024-10-06T14:28:56.077542Z"
        },
        "trusted": true,
        "id": "8E4gVnusxSG6",
        "outputId": "1f9314be-bd64-415b-d309-1cff79486499"
      },
      "execution_count": null,
      "outputs": [
        {
          "execution_count": 20,
          "output_type": "execute_result",
          "data": {
            "text/plain": "                                                                                                                                                                                                                                                                                        tweet_text\n989292962323615744|2018-04-25|23:59:57|Eastern ... NaN                                                NaN                NaN                                                NaN                         NaN NaN NaN NaN NaN NaN NaN NaN NaN NaN NaN NaN NaN NaN NaN NaN NaN NaN NaN NaN        NaN\n989292959844663296|2018-04-25|23:59:56|Eastern ... NaN                                                NaN                NaN                                                NaN                         NaN NaN NaN NaN NaN NaN NaN NaN NaN NaN NaN NaN NaN NaN NaN NaN NaN NaN NaN NaN        NaN\n989292951716155392|2018-04-25|23:59:54|Eastern ...  i do dislike people though.|0|0|0|                NaN                NaN                                                NaN                         NaN NaN NaN NaN NaN NaN NaN NaN NaN NaN NaN NaN NaN NaN NaN NaN NaN NaN NaN NaN        NaN\n989292873664393218|2018-04-25|23:59:35|Eastern ... NaN                                                NaN                NaN                                                NaN                         NaN NaN NaN NaN NaN NaN NaN NaN NaN NaN NaN NaN NaN NaN NaN NaN NaN NaN NaN NaN        NaN\n989292856119472128|2018-04-25|23:59:31|Eastern ...  these rainouts are spinning my equilibrium out... NaN                NaN                                                NaN                         NaN NaN NaN NaN NaN NaN NaN NaN NaN NaN NaN NaN NaN NaN NaN NaN NaN NaN NaN NaN        NaN\n989292843125616641|2018-04-25|23:59:28|Eastern ... NaN                                                NaN                NaN                                                NaN                         NaN NaN NaN NaN NaN NaN NaN NaN NaN NaN NaN NaN NaN NaN NaN NaN NaN NaN NaN NaN        NaN\n989291000911642625|2018-04-25|23:52:09|Eastern ... NaN                                                NaN                NaN                                                NaN                         NaN NaN NaN NaN NaN NaN NaN NaN NaN NaN NaN NaN NaN NaN NaN NaN NaN NaN NaN NaN        NaN\n989290997346643968|2018-04-25|23:52:08|Eastern ...  the neptunes                                       justin timberlake  timbaland. got me out of depression when I was...  but this is too far|0|0|0| NaN NaN NaN NaN NaN NaN NaN NaN NaN NaN NaN NaN NaN NaN NaN NaN NaN NaN NaN NaN        NaN\n989290972973600770|2018-04-25|23:52:02|Eastern ... NaN                                                NaN                NaN                                                NaN                         NaN NaN NaN NaN NaN NaN NaN NaN NaN NaN NaN NaN NaN NaN NaN NaN NaN NaN NaN NaN        NaN\n989290951012044800|2018-04-25|23:51:57|Eastern ... NaN                                                NaN                NaN                                                NaN                         NaN NaN NaN NaN NaN NaN NaN NaN NaN NaN NaN NaN NaN NaN NaN NaN NaN NaN NaN NaN        NaN",
            "text/html": "<div>\n<style scoped>\n    .dataframe tbody tr th:only-of-type {\n        vertical-align: middle;\n    }\n\n    .dataframe tbody tr th {\n        vertical-align: top;\n    }\n\n    .dataframe thead th {\n        text-align: right;\n    }\n</style>\n<table border=\"1\" class=\"dataframe\">\n  <thead>\n    <tr style=\"text-align: right;\">\n      <th></th>\n      <th></th>\n      <th></th>\n      <th></th>\n      <th></th>\n      <th></th>\n      <th></th>\n      <th></th>\n      <th></th>\n      <th></th>\n      <th></th>\n      <th></th>\n      <th></th>\n      <th></th>\n      <th></th>\n      <th></th>\n      <th></th>\n      <th></th>\n      <th></th>\n      <th></th>\n      <th></th>\n      <th></th>\n      <th></th>\n      <th></th>\n      <th></th>\n      <th>tweet_text</th>\n    </tr>\n  </thead>\n  <tbody>\n    <tr>\n      <th>989292962323615744|2018-04-25|23:59:57|Eastern Standard Time|whosalli|The lack of this understanding is a small but significant part of what causes anxiety &amp; depression to both feel so incredibly lonely. It's soooo easy to compare. It's so easy to invalidate ourselves because of that.|1|0|3|</th>\n      <th>NaN</th>\n      <th>NaN</th>\n      <th>NaN</th>\n      <th>NaN</th>\n      <th>NaN</th>\n      <th>NaN</th>\n      <th>NaN</th>\n      <th>NaN</th>\n      <th>NaN</th>\n      <th>NaN</th>\n      <th>NaN</th>\n      <th>NaN</th>\n      <th>NaN</th>\n      <th>NaN</th>\n      <th>NaN</th>\n      <th>NaN</th>\n      <th>NaN</th>\n      <th>NaN</th>\n      <th>NaN</th>\n      <th>NaN</th>\n      <th>NaN</th>\n      <th>NaN</th>\n      <th>NaN</th>\n      <th>NaN</th>\n      <td>NaN</td>\n    </tr>\n    <tr>\n      <th>989292959844663296|2018-04-25|23:59:56|Eastern Standard Time|estermnunes|i just told my parents about my depression and it's so hard to get gen x people to understand that this is not something that i can control all the time or just cure with a walk or by keeping my mind busy|1|0|2|</th>\n      <th>NaN</th>\n      <th>NaN</th>\n      <th>NaN</th>\n      <th>NaN</th>\n      <th>NaN</th>\n      <th>NaN</th>\n      <th>NaN</th>\n      <th>NaN</th>\n      <th>NaN</th>\n      <th>NaN</th>\n      <th>NaN</th>\n      <th>NaN</th>\n      <th>NaN</th>\n      <th>NaN</th>\n      <th>NaN</th>\n      <th>NaN</th>\n      <th>NaN</th>\n      <th>NaN</th>\n      <th>NaN</th>\n      <th>NaN</th>\n      <th>NaN</th>\n      <th>NaN</th>\n      <th>NaN</th>\n      <th>NaN</th>\n      <td>NaN</td>\n    </tr>\n    <tr>\n      <th>989292951716155392|2018-04-25|23:59:54|Eastern Standard Time|TheAlphaAries|depression is something i don't speak about even going through it because it's also such a double edged sword. i love every race. even if white people had done so much i can't hate them all. my grandma is legit white! how tf can i hate</th>\n      <th>i do dislike people though.|0|0|0|</th>\n      <th>NaN</th>\n      <th>NaN</th>\n      <th>NaN</th>\n      <th>NaN</th>\n      <th>NaN</th>\n      <th>NaN</th>\n      <th>NaN</th>\n      <th>NaN</th>\n      <th>NaN</th>\n      <th>NaN</th>\n      <th>NaN</th>\n      <th>NaN</th>\n      <th>NaN</th>\n      <th>NaN</th>\n      <th>NaN</th>\n      <th>NaN</th>\n      <th>NaN</th>\n      <th>NaN</th>\n      <th>NaN</th>\n      <th>NaN</th>\n      <th>NaN</th>\n      <th>NaN</th>\n      <th>NaN</th>\n      <td>NaN</td>\n    </tr>\n    <tr>\n      <th>989292873664393218|2018-04-25|23:59:35|Eastern Standard Time|_ojhodgson|Made myself a tortilla filled with pb&amp;j. My depression is cured. Olivia:1 depression:0|1|0|0|</th>\n      <th>NaN</th>\n      <th>NaN</th>\n      <th>NaN</th>\n      <th>NaN</th>\n      <th>NaN</th>\n      <th>NaN</th>\n      <th>NaN</th>\n      <th>NaN</th>\n      <th>NaN</th>\n      <th>NaN</th>\n      <th>NaN</th>\n      <th>NaN</th>\n      <th>NaN</th>\n      <th>NaN</th>\n      <th>NaN</th>\n      <th>NaN</th>\n      <th>NaN</th>\n      <th>NaN</th>\n      <th>NaN</th>\n      <th>NaN</th>\n      <th>NaN</th>\n      <th>NaN</th>\n      <th>NaN</th>\n      <th>NaN</th>\n      <td>NaN</td>\n    </tr>\n    <tr>\n      <th>989292856119472128|2018-04-25|23:59:31|Eastern Standard Time|DMiller96371630|@WorldofOutlaws I am gonna need depression meds soon</th>\n      <th>these rainouts are spinning my equilibrium out &lt;Emoji: Pouting face&gt; Mother Nature is being a mean B-T-H &lt;Emoji: Face with symbols over mouth&gt;|0|0|0|</th>\n      <th>NaN</th>\n      <th>NaN</th>\n      <th>NaN</th>\n      <th>NaN</th>\n      <th>NaN</th>\n      <th>NaN</th>\n      <th>NaN</th>\n      <th>NaN</th>\n      <th>NaN</th>\n      <th>NaN</th>\n      <th>NaN</th>\n      <th>NaN</th>\n      <th>NaN</th>\n      <th>NaN</th>\n      <th>NaN</th>\n      <th>NaN</th>\n      <th>NaN</th>\n      <th>NaN</th>\n      <th>NaN</th>\n      <th>NaN</th>\n      <th>NaN</th>\n      <th>NaN</th>\n      <th>NaN</th>\n      <td>NaN</td>\n    </tr>\n    <tr>\n      <th>989292843125616641|2018-04-25|23:59:28|Eastern Standard Time|PHOTOGPRODIG|my anxiety and my depression fighting over whos day it is  https://twitter.com/crissles/status/988218861697806336 …|0|0|2|</th>\n      <th>NaN</th>\n      <th>NaN</th>\n      <th>NaN</th>\n      <th>NaN</th>\n      <th>NaN</th>\n      <th>NaN</th>\n      <th>NaN</th>\n      <th>NaN</th>\n      <th>NaN</th>\n      <th>NaN</th>\n      <th>NaN</th>\n      <th>NaN</th>\n      <th>NaN</th>\n      <th>NaN</th>\n      <th>NaN</th>\n      <th>NaN</th>\n      <th>NaN</th>\n      <th>NaN</th>\n      <th>NaN</th>\n      <th>NaN</th>\n      <th>NaN</th>\n      <th>NaN</th>\n      <th>NaN</th>\n      <th>NaN</th>\n      <td>NaN</td>\n    </tr>\n    <tr>\n      <th>989291000911642625|2018-04-25|23:52:09|Eastern Standard Time|sp4cecounty|wow she's suddenly cured my depression and gave us world peace  https://twitter.com/bearfaceingtons/status/989289124883566593 …|0|2|9|</th>\n      <th>NaN</th>\n      <th>NaN</th>\n      <th>NaN</th>\n      <th>NaN</th>\n      <th>NaN</th>\n      <th>NaN</th>\n      <th>NaN</th>\n      <th>NaN</th>\n      <th>NaN</th>\n      <th>NaN</th>\n      <th>NaN</th>\n      <th>NaN</th>\n      <th>NaN</th>\n      <th>NaN</th>\n      <th>NaN</th>\n      <th>NaN</th>\n      <th>NaN</th>\n      <th>NaN</th>\n      <th>NaN</th>\n      <th>NaN</th>\n      <th>NaN</th>\n      <th>NaN</th>\n      <th>NaN</th>\n      <th>NaN</th>\n      <td>NaN</td>\n    </tr>\n    <tr>\n      <th>989290997346643968|2018-04-25|23:52:08|Eastern Standard Time|sassi_klassi|I am officially done with @kanyewest. him</th>\n      <th>the neptunes</th>\n      <th>justin timberlake</th>\n      <th>timbaland. got me out of depression when I was in younger. a lot of these artist have changed their sounds and I have still supported them</th>\n      <th>but this is too far|0|0|0|</th>\n      <th>NaN</th>\n      <th>NaN</th>\n      <th>NaN</th>\n      <th>NaN</th>\n      <th>NaN</th>\n      <th>NaN</th>\n      <th>NaN</th>\n      <th>NaN</th>\n      <th>NaN</th>\n      <th>NaN</th>\n      <th>NaN</th>\n      <th>NaN</th>\n      <th>NaN</th>\n      <th>NaN</th>\n      <th>NaN</th>\n      <th>NaN</th>\n      <th>NaN</th>\n      <th>NaN</th>\n      <th>NaN</th>\n      <th>NaN</th>\n      <td>NaN</td>\n    </tr>\n    <tr>\n      <th>989290972973600770|2018-04-25|23:52:02|Eastern Standard Time|therealazukaobi|Me: what's wrong?My girl: *looks up at me with look of depression and stress on her face**Me: same babe same. #examseason|0|0|2|#examseason</th>\n      <th>NaN</th>\n      <th>NaN</th>\n      <th>NaN</th>\n      <th>NaN</th>\n      <th>NaN</th>\n      <th>NaN</th>\n      <th>NaN</th>\n      <th>NaN</th>\n      <th>NaN</th>\n      <th>NaN</th>\n      <th>NaN</th>\n      <th>NaN</th>\n      <th>NaN</th>\n      <th>NaN</th>\n      <th>NaN</th>\n      <th>NaN</th>\n      <th>NaN</th>\n      <th>NaN</th>\n      <th>NaN</th>\n      <th>NaN</th>\n      <th>NaN</th>\n      <th>NaN</th>\n      <th>NaN</th>\n      <th>NaN</th>\n      <td>NaN</td>\n    </tr>\n    <tr>\n      <th>989290951012044800|2018-04-25|23:51:57|Eastern Standard Time|KateSusabu|@AusBorderForce @PeterDutton_MP @shanebazzi Agreed &lt;Emoji: Clapping hands sign&gt;&lt;Emoji: Clapping hands sign&gt;&lt;Emoji: Clapping hands sign&gt;As someone with long experience of clinical depression I'd like to add this:Of course she fuckingwell yells and hits her head on the wall and says she wants to dieNobody can live forever without hopeShe won't get better while kept indefinitely on Nauru|0|0|0|</th>\n      <th>NaN</th>\n      <th>NaN</th>\n      <th>NaN</th>\n      <th>NaN</th>\n      <th>NaN</th>\n      <th>NaN</th>\n      <th>NaN</th>\n      <th>NaN</th>\n      <th>NaN</th>\n      <th>NaN</th>\n      <th>NaN</th>\n      <th>NaN</th>\n      <th>NaN</th>\n      <th>NaN</th>\n      <th>NaN</th>\n      <th>NaN</th>\n      <th>NaN</th>\n      <th>NaN</th>\n      <th>NaN</th>\n      <th>NaN</th>\n      <th>NaN</th>\n      <th>NaN</th>\n      <th>NaN</th>\n      <th>NaN</th>\n      <td>NaN</td>\n    </tr>\n  </tbody>\n</table>\n</div>"
          },
          "metadata": {}
        }
      ]
    },
    {
      "cell_type": "code",
      "source": [
        "# Combine the depressive datasets\n",
        "depressed_df = pd.concat([\n",
        "    diagnosed_depression,\n",
        "    fighting_depression,\n",
        "    suffering_depression,\n",
        "    tweetdata_txt,\n",
        "    depressive_processed\n",
        "])"
      ],
      "metadata": {
        "execution": {
          "iopub.status.busy": "2024-10-06T14:28:56.080007Z",
          "iopub.execute_input": "2024-10-06T14:28:56.080634Z",
          "iopub.status.idle": "2024-10-06T14:28:56.175218Z",
          "shell.execute_reply.started": "2024-10-06T14:28:56.08059Z",
          "shell.execute_reply": "2024-10-06T14:28:56.174383Z"
        },
        "trusted": true,
        "id": "2C_9zcfSxSG6"
      },
      "execution_count": null,
      "outputs": []
    },
    {
      "cell_type": "code",
      "source": [
        "depressed_df.head()"
      ],
      "metadata": {
        "execution": {
          "iopub.status.busy": "2024-10-06T14:28:56.176629Z",
          "iopub.execute_input": "2024-10-06T14:28:56.177076Z",
          "iopub.status.idle": "2024-10-06T14:28:56.191217Z",
          "shell.execute_reply.started": "2024-10-06T14:28:56.177029Z",
          "shell.execute_reply": "2024-10-06T14:28:56.190186Z"
        },
        "trusted": true,
        "id": "8gzSy08exSG7",
        "outputId": "32bb370b-2f9d-4009-824a-762435c51f61"
      },
      "execution_count": null,
      "outputs": [
        {
          "execution_count": 22,
          "output_type": "execute_result",
          "data": {
            "text/plain": "                                                    tweet_text\n(id, conversation_id, created_at, date, time, t...  trans_dest\n(1434955769229754373, 1434955769229754373, 2021...         NaN\n(1434945519395106816, 1434945519395106816, 2021...         NaN\n(1434869483366088708, 1434869483366088708, 2021...         NaN\n(1434817177819963394, 1434709252363390983, 2021...         NaN",
            "text/html": "<div>\n<style scoped>\n    .dataframe tbody tr th:only-of-type {\n        vertical-align: middle;\n    }\n\n    .dataframe tbody tr th {\n        vertical-align: top;\n    }\n\n    .dataframe thead th {\n        text-align: right;\n    }\n</style>\n<table border=\"1\" class=\"dataframe\">\n  <thead>\n    <tr style=\"text-align: right;\">\n      <th></th>\n      <th>tweet_text</th>\n    </tr>\n  </thead>\n  <tbody>\n    <tr>\n      <th>(id, conversation_id, created_at, date, time, timezone, user_id, username, name, place, tweet, language, mentions, urls, photos, replies_count, retweets_count, likes_count, hashtags, cashtags, link, retweet, quote_url, video, thumbnail, near, geo, source, user_rt_id, user_rt, retweet_id, reply_to, retweet_date, translate, trans_src)</th>\n      <td>trans_dest</td>\n    </tr>\n    <tr>\n      <th>(1434955769229754373, 1434955769229754373, 2021-09-06 19:04:50 UTC, 2021-09-06, 19:04:50, +0000, 1381318737496838152, andreeazxm, andreea🤎, nan, Tw: depression I was diagnosed with depression for a year and no one from my family knows that. I thought things were getting better till today. I was scared that I can hurt myself in some way. I want to tell my mom but I am scared to see her reactions and I dont know what to do., en, [], [], [], 3, 0, 1, [], [], https://twitter.com/andreeazxm/status/1434955769229754373, False, nan, 0, nan, nan, nan, nan, nan, nan, nan, [], nan, nan, nan)</th>\n      <td>NaN</td>\n    </tr>\n    <tr>\n      <th>(1434945519395106816, 1434945519395106816, 2021-09-06 18:24:06 UTC, 2021-09-06, 18:24:06, +0000, 757411816079134720, generouspanda, ☕Dàfāng (大方)☕, nan, To all the people checking on me yesterday, thank you. For those who don't know I am clinically diagnosed with bi-polar depression and while I have it under control for the most part, this past weekend it spiked hard. I'm doing better today. Thank you all, I don't deserve you., en, [], [], [], 2, 0, 7, [], [], https://twitter.com/GenerousPanda/status/1434945519395106816, False, nan, 0, nan, nan, nan, nan, nan, nan, nan, [], nan, nan, nan)</th>\n      <td>NaN</td>\n    </tr>\n    <tr>\n      <th>(1434869483366088708, 1434869483366088708, 2021-09-06 13:21:58 UTC, 2021-09-06, 13:21:58, +0000, 408163969, annbag2, Ann Sproule🌏🔥💧😷, nan, What gives you strength and bearing to cope with a young adult with BPD, depression, self harm, most probably (but diagnosed) asd, suicidal, abusive, violent.   Yes, we've had heaps of professional help.  I am almost at my whits end. So sad myself. I love her and I hate her.  FMD, en, [], [], [], 4, 0, 7, [], [], https://twitter.com/annbag2/status/1434869483366088708, False, nan, 0, nan, nan, nan, nan, nan, nan, nan, [], nan, nan, nan)</th>\n      <td>NaN</td>\n    </tr>\n    <tr>\n      <th>(1434817177819963394, 1434709252363390983, 2021-09-06 09:54:07 UTC, 2021-09-06, 09:54:07, +0000, 1317853886871371776, moogmarion, Marion, nan, @SteveWCarlson @12News He was diagnosed  with transient schizophrenia, bipolar disorder, depression and anxiety, the same navy psychologists diagnosed in 2006. Jake is my cousins friend and I am following his story for a long time, Judge Lamberth is a Reagan appointee by the way., en, [], [], [], 3, 0, 0, [], [], https://twitter.com/MoogMarion/status/1434817177819963394, False, nan, 0, nan, nan, nan, nan, nan, nan, nan, [{'screen_name': 'SteveWCarlson', 'name': 'Senator Steve Carlson 2.022', 'id': '174369590'}, {'screen_name': '12News', 'name': '12 News', 'id': '17187236'}], nan, nan, nan)</th>\n      <td>NaN</td>\n    </tr>\n  </tbody>\n</table>\n</div>"
          },
          "metadata": {}
        }
      ]
    },
    {
      "cell_type": "code",
      "source": [
        "# Load the Sentiment140 dataset with proper column names\n",
        "random_tweets = pd.read_csv(random_tweets_path, names=['sentiment', 'id', 'date', 'query', 'user', 'tweet_text'], encoding='latin1', skipinitialspace=True)\n"
      ],
      "metadata": {
        "execution": {
          "iopub.status.busy": "2024-10-06T14:28:56.192468Z",
          "iopub.execute_input": "2024-10-06T14:28:56.192789Z",
          "iopub.status.idle": "2024-10-06T14:29:01.926742Z",
          "shell.execute_reply.started": "2024-10-06T14:28:56.192757Z",
          "shell.execute_reply": "2024-10-06T14:29:01.925518Z"
        },
        "trusted": true,
        "id": "4-tqms8DxSG7"
      },
      "execution_count": null,
      "outputs": []
    },
    {
      "cell_type": "code",
      "source": [
        "print(\"Columns in diagnosed_depression dataset:\", diagnosed_depression.columns)\n",
        "print(\"Columns in fighting_depression dataset:\", fighting_depression.columns)\n",
        "print(\"Columns in suffering_depression dataset:\", suffering_depression.columns)\n",
        "print(\"Columns in depressive_processed dataset:\", depressive_processed.columns)\n",
        "print(\"Columns in random_tweets dataset:\", random_tweets.columns)"
      ],
      "metadata": {
        "execution": {
          "iopub.status.busy": "2024-10-06T14:29:01.928617Z",
          "iopub.execute_input": "2024-10-06T14:29:01.929028Z",
          "iopub.status.idle": "2024-10-06T14:29:01.937103Z",
          "shell.execute_reply.started": "2024-10-06T14:29:01.928962Z",
          "shell.execute_reply": "2024-10-06T14:29:01.93591Z"
        },
        "trusted": true,
        "id": "pYnBWwwbxSG7",
        "outputId": "aec78257-c3d4-4ece-999b-d738c5a129cf"
      },
      "execution_count": null,
      "outputs": [
        {
          "name": "stdout",
          "text": "Columns in diagnosed_depression dataset: Index(['tweet_text'], dtype='object')\nColumns in fighting_depression dataset: Index(['tweet_text'], dtype='object')\nColumns in suffering_depression dataset: Index(['tweet_text'], dtype='object')\nColumns in depressive_processed dataset: Index(['tweet_text'], dtype='object')\nColumns in random_tweets dataset: Index(['sentiment', 'id', 'date', 'query', 'user', 'tweet_text'], dtype='object')\n",
          "output_type": "stream"
        }
      ]
    },
    {
      "cell_type": "code",
      "source": [
        "depressed_df['label'] = 1"
      ],
      "metadata": {
        "execution": {
          "iopub.status.busy": "2024-10-06T14:29:01.942517Z",
          "iopub.execute_input": "2024-10-06T14:29:01.942819Z",
          "iopub.status.idle": "2024-10-06T14:29:01.949383Z",
          "shell.execute_reply.started": "2024-10-06T14:29:01.942783Z",
          "shell.execute_reply": "2024-10-06T14:29:01.948529Z"
        },
        "trusted": true,
        "id": "gPIjYOjQxSG7"
      },
      "execution_count": null,
      "outputs": []
    },
    {
      "cell_type": "code",
      "source": [
        "# Create Depressive Tweets Mega Dataset with a maximum of 50,000 tweets\n",
        "if len(depressed_df) > 50000:\n",
        "    depressed_df = depressed_df.sample(n=50000, random_state=42).reset_index(drop=True)"
      ],
      "metadata": {
        "execution": {
          "iopub.status.busy": "2024-10-06T14:29:01.950769Z",
          "iopub.execute_input": "2024-10-06T14:29:01.951156Z",
          "iopub.status.idle": "2024-10-06T14:29:01.983306Z",
          "shell.execute_reply.started": "2024-10-06T14:29:01.951114Z",
          "shell.execute_reply": "2024-10-06T14:29:01.982393Z"
        },
        "trusted": true,
        "id": "f7rKtbZhxSG7"
      },
      "execution_count": null,
      "outputs": []
    },
    {
      "cell_type": "code",
      "source": [
        "non_depressed_df = random_tweets[random_tweets['sentiment'] == 4].reset_index(drop=True)"
      ],
      "metadata": {
        "execution": {
          "iopub.status.busy": "2024-10-06T14:29:01.985251Z",
          "iopub.execute_input": "2024-10-06T14:29:01.985663Z",
          "iopub.status.idle": "2024-10-06T14:29:02.091667Z",
          "shell.execute_reply.started": "2024-10-06T14:29:01.985621Z",
          "shell.execute_reply": "2024-10-06T14:29:02.090683Z"
        },
        "trusted": true,
        "id": "8NRpyTpIxSG7"
      },
      "execution_count": null,
      "outputs": []
    },
    {
      "cell_type": "code",
      "source": [
        "# Check how many non-depressed tweets are available\n",
        "total_positive_tweets = len(non_depressed_df)\n",
        "print(f\"Total positive tweets available: {total_positive_tweets}\")"
      ],
      "metadata": {
        "execution": {
          "iopub.status.busy": "2024-10-06T14:29:02.092887Z",
          "iopub.execute_input": "2024-10-06T14:29:02.093226Z",
          "iopub.status.idle": "2024-10-06T14:29:02.099295Z",
          "shell.execute_reply.started": "2024-10-06T14:29:02.093191Z",
          "shell.execute_reply": "2024-10-06T14:29:02.098274Z"
        },
        "trusted": true,
        "id": "w1p_1KpHxSG7",
        "outputId": "f550d4c6-c563-408b-b6ca-147c96e30ac6"
      },
      "execution_count": null,
      "outputs": [
        {
          "name": "stdout",
          "text": "Total positive tweets available: 800000\n",
          "output_type": "stream"
        }
      ]
    },
    {
      "cell_type": "code",
      "source": [
        "# Randomly select 50,000 non-depressed tweets if available\n",
        "if total_positive_tweets >= 50000:\n",
        "    non_depressed_df = non_depressed_df.sample(n=50000, random_state=42).reset_index(drop=True)\n",
        "elif total_positive_tweets == 0:\n",
        "    print(\"No positive tweets available in the dataset.\")\n",
        "    non_depressed_df = pd.DataFrame(columns=['tweet_text', 'label'])  # Create an empty DataFrame for non-depressed tweets\n"
      ],
      "metadata": {
        "execution": {
          "iopub.status.busy": "2024-10-06T14:29:02.100692Z",
          "iopub.execute_input": "2024-10-06T14:29:02.101056Z",
          "iopub.status.idle": "2024-10-06T14:29:02.17637Z",
          "shell.execute_reply.started": "2024-10-06T14:29:02.101015Z",
          "shell.execute_reply": "2024-10-06T14:29:02.175288Z"
        },
        "trusted": true,
        "id": "2Ps_slf3xSG7"
      },
      "execution_count": null,
      "outputs": []
    },
    {
      "cell_type": "code",
      "source": [
        "# Add labels to both datasets\n",
        "depressed_df['label'] = 1  # Label for depressed tweets\n",
        "non_depressed_df['label'] = 0  # Label for non-depressed tweets"
      ],
      "metadata": {
        "execution": {
          "iopub.status.busy": "2024-10-06T14:29:02.177767Z",
          "iopub.execute_input": "2024-10-06T14:29:02.178132Z",
          "iopub.status.idle": "2024-10-06T14:29:02.184661Z",
          "shell.execute_reply.started": "2024-10-06T14:29:02.178096Z",
          "shell.execute_reply": "2024-10-06T14:29:02.183619Z"
        },
        "trusted": true,
        "id": "6WEcr4XtxSG7"
      },
      "execution_count": null,
      "outputs": []
    },
    {
      "cell_type": "code",
      "source": [
        "# Combine the final dataset\n",
        "final_dataset = pd.concat([depressed_df, non_depressed_df]).reset_index(drop=True)\n",
        "\n",
        "# Shuffle the final dataset to ensure random distribution of classes\n",
        "final_dataset = final_dataset.sample(frac=1, random_state=42).reset_index(drop=True)"
      ],
      "metadata": {
        "execution": {
          "iopub.status.busy": "2024-10-06T14:29:02.18616Z",
          "iopub.execute_input": "2024-10-06T14:29:02.186806Z",
          "iopub.status.idle": "2024-10-06T14:29:02.258795Z",
          "shell.execute_reply.started": "2024-10-06T14:29:02.186768Z",
          "shell.execute_reply": "2024-10-06T14:29:02.257754Z"
        },
        "trusted": true,
        "id": "AJ2O97c7xSG7"
      },
      "execution_count": null,
      "outputs": []
    },
    {
      "cell_type": "code",
      "source": [
        "final_dataset.to_csv('balanced_final_dataset.csv', index=False)"
      ],
      "metadata": {
        "execution": {
          "iopub.status.busy": "2024-10-06T14:29:02.260142Z",
          "iopub.execute_input": "2024-10-06T14:29:02.260495Z",
          "iopub.status.idle": "2024-10-06T14:29:08.372061Z",
          "shell.execute_reply.started": "2024-10-06T14:29:02.260443Z",
          "shell.execute_reply": "2024-10-06T14:29:08.370857Z"
        },
        "trusted": true,
        "id": "wIWjJdr8xSG7"
      },
      "execution_count": null,
      "outputs": []
    },
    {
      "cell_type": "code",
      "source": [
        "print(final_dataset)"
      ],
      "metadata": {
        "execution": {
          "iopub.status.busy": "2024-10-06T14:29:08.373644Z",
          "iopub.execute_input": "2024-10-06T14:29:08.374003Z",
          "iopub.status.idle": "2024-10-06T14:29:08.386467Z",
          "shell.execute_reply.started": "2024-10-06T14:29:08.373953Z",
          "shell.execute_reply": "2024-10-06T14:29:08.385478Z"
        },
        "trusted": true,
        "id": "F4XIhhx5xSG7",
        "outputId": "8ba43b58-c80c-46b6-bc45-7727ff7c4303"
      },
      "execution_count": null,
      "outputs": [
        {
          "name": "stdout",
          "text": "                                              tweet_text  label  sentiment  \\\n0                           @stargazer60 that's awesome       0        4.0   \n1                       @cunningstunts22  yes... i am!        0        4.0   \n2      {\"created_at\":\"Sat May 16 19:29:04 +0000 2020\"...      1        NaN   \n3      @Thorney88 re guinea fowl ive heard that lots ...      0        4.0   \n4                        def going to the movies tonite       0        4.0   \n...                                                  ...    ...        ...   \n99995                                                         1        NaN   \n99996  @DavidArchie so last night I made a hand-made ...      0        4.0   \n99997  @nnkiani ah fair enough... i would watch seaso...      0        4.0   \n99998  {\"created_at\":\"Sat May 16 20:22:20 +0000 2020\"...      1        NaN   \n99999  {\"created_at\":\"Sat May 16 19:11:40 +0000 2020\"...      1        NaN   \n\n                 id                          date     query           user  \n0      1.973861e+09  Sat May 30 11:58:39 PDT 2009  NO_QUERY      sspaz1000  \n1      1.826279e+09  Sun May 17 08:07:39 PDT 2009  NO_QUERY  A_TALL_BLONDE  \n2               NaN                           NaN       NaN            NaN  \n3      1.754848e+09  Sun May 10 07:33:38 PDT 2009  NO_QUERY        XgailyX  \n4      1.826524e+09  Sun May 17 08:42:40 PDT 2009  NO_QUERY   missangiebbs  \n...             ...                           ...       ...            ...  \n99995           NaN                           NaN       NaN            NaN  \n99996  1.979757e+09  Sun May 31 04:22:55 PDT 2009  NO_QUERY       fherchie  \n99997  2.016157e+09  Wed Jun 03 06:16:26 PDT 2009  NO_QUERY        BhavinK  \n99998           NaN                           NaN       NaN            NaN  \n99999           NaN                           NaN       NaN            NaN  \n\n[100000 rows x 7 columns]\n",
          "output_type": "stream"
        }
      ]
    },
    {
      "cell_type": "code",
      "source": [
        "print(f\"Final Dataset created with {len(final_dataset)} rows.\")"
      ],
      "metadata": {
        "execution": {
          "iopub.status.busy": "2024-10-06T14:29:08.387819Z",
          "iopub.execute_input": "2024-10-06T14:29:08.388167Z",
          "iopub.status.idle": "2024-10-06T14:29:08.394853Z",
          "shell.execute_reply.started": "2024-10-06T14:29:08.388124Z",
          "shell.execute_reply": "2024-10-06T14:29:08.39405Z"
        },
        "trusted": true,
        "id": "0SA-fhsFxSG7",
        "outputId": "15213f07-f51a-4163-8f39-a6704217d713"
      },
      "execution_count": null,
      "outputs": [
        {
          "name": "stdout",
          "text": "Final Dataset created with 100000 rows.\n",
          "output_type": "stream"
        }
      ]
    },
    {
      "cell_type": "code",
      "source": [
        "print(\"\\nClass distribution in final dataset:\")\n",
        "print(f\"Depressive Tweets Mega Dataset: {len(depressed_df)} tweets labeled as depressed.\")\n",
        "print(f\"Random Tweets Dataset: {len(non_depressed_df)} tweets labeled as non-depressed.\")"
      ],
      "metadata": {
        "execution": {
          "iopub.status.busy": "2024-10-06T14:29:08.396215Z",
          "iopub.execute_input": "2024-10-06T14:29:08.396539Z",
          "iopub.status.idle": "2024-10-06T14:29:08.403557Z",
          "shell.execute_reply.started": "2024-10-06T14:29:08.396489Z",
          "shell.execute_reply": "2024-10-06T14:29:08.402665Z"
        },
        "trusted": true,
        "id": "44Y6HbCWxSG7",
        "outputId": "63a41b97-588b-4ad6-fb74-ae858078d201"
      },
      "execution_count": null,
      "outputs": [
        {
          "name": "stdout",
          "text": "\nClass distribution in final dataset:\nDepressive Tweets Mega Dataset: 50000 tweets labeled as depressed.\nRandom Tweets Dataset: 50000 tweets labeled as non-depressed.\n",
          "output_type": "stream"
        }
      ]
    },
    {
      "cell_type": "code",
      "source": [
        "# Check class distribution in the final dataset\n",
        "class_distribution = final_dataset['label'].value_counts()\n",
        "print(\"Class distribution in the final dataset:\")\n",
        "print(class_distribution)\n"
      ],
      "metadata": {
        "execution": {
          "iopub.status.busy": "2024-10-06T14:29:08.40482Z",
          "iopub.execute_input": "2024-10-06T14:29:08.405345Z",
          "iopub.status.idle": "2024-10-06T14:29:08.42126Z",
          "shell.execute_reply.started": "2024-10-06T14:29:08.4053Z",
          "shell.execute_reply": "2024-10-06T14:29:08.42031Z"
        },
        "trusted": true,
        "id": "CbeA_PQkxSG7",
        "outputId": "893cc4d8-7cad-4c7d-db27-a4e5f6740ee3"
      },
      "execution_count": null,
      "outputs": [
        {
          "name": "stdout",
          "text": "Class distribution in the final dataset:\nlabel\n0    50000\n1    50000\nName: count, dtype: int64\n",
          "output_type": "stream"
        }
      ]
    },
    {
      "cell_type": "code",
      "source": [
        "!pip install torch_geometric"
      ],
      "metadata": {
        "execution": {
          "iopub.status.busy": "2024-10-06T14:29:08.422476Z",
          "iopub.execute_input": "2024-10-06T14:29:08.422872Z",
          "iopub.status.idle": "2024-10-06T14:29:21.272674Z",
          "shell.execute_reply.started": "2024-10-06T14:29:08.422828Z",
          "shell.execute_reply": "2024-10-06T14:29:21.271511Z"
        },
        "trusted": true,
        "id": "YoKoe89kxSG8",
        "outputId": "59182852-924c-4b47-a60d-4cde72fcddc2"
      },
      "execution_count": null,
      "outputs": [
        {
          "name": "stdout",
          "text": "Requirement already satisfied: torch_geometric in /opt/conda/lib/python3.10/site-packages (2.6.1)\nRequirement already satisfied: aiohttp in /opt/conda/lib/python3.10/site-packages (from torch_geometric) (3.9.5)\nRequirement already satisfied: fsspec in /opt/conda/lib/python3.10/site-packages (from torch_geometric) (2024.6.1)\nRequirement already satisfied: jinja2 in /opt/conda/lib/python3.10/site-packages (from torch_geometric) (3.1.4)\nRequirement already satisfied: numpy in /opt/conda/lib/python3.10/site-packages (from torch_geometric) (1.26.4)\nRequirement already satisfied: psutil>=5.8.0 in /opt/conda/lib/python3.10/site-packages (from torch_geometric) (5.9.3)\nRequirement already satisfied: pyparsing in /opt/conda/lib/python3.10/site-packages (from torch_geometric) (3.1.2)\nRequirement already satisfied: requests in /opt/conda/lib/python3.10/site-packages (from torch_geometric) (2.32.3)\nRequirement already satisfied: tqdm in /opt/conda/lib/python3.10/site-packages (from torch_geometric) (4.66.4)\nRequirement already satisfied: aiosignal>=1.1.2 in /opt/conda/lib/python3.10/site-packages (from aiohttp->torch_geometric) (1.3.1)\nRequirement already satisfied: attrs>=17.3.0 in /opt/conda/lib/python3.10/site-packages (from aiohttp->torch_geometric) (23.2.0)\nRequirement already satisfied: frozenlist>=1.1.1 in /opt/conda/lib/python3.10/site-packages (from aiohttp->torch_geometric) (1.4.1)\nRequirement already satisfied: multidict<7.0,>=4.5 in /opt/conda/lib/python3.10/site-packages (from aiohttp->torch_geometric) (6.0.5)\nRequirement already satisfied: yarl<2.0,>=1.0 in /opt/conda/lib/python3.10/site-packages (from aiohttp->torch_geometric) (1.9.4)\nRequirement already satisfied: async-timeout<5.0,>=4.0 in /opt/conda/lib/python3.10/site-packages (from aiohttp->torch_geometric) (4.0.3)\nRequirement already satisfied: MarkupSafe>=2.0 in /opt/conda/lib/python3.10/site-packages (from jinja2->torch_geometric) (2.1.5)\nRequirement already satisfied: charset-normalizer<4,>=2 in /opt/conda/lib/python3.10/site-packages (from requests->torch_geometric) (3.3.2)\nRequirement already satisfied: idna<4,>=2.5 in /opt/conda/lib/python3.10/site-packages (from requests->torch_geometric) (3.7)\nRequirement already satisfied: urllib3<3,>=1.21.1 in /opt/conda/lib/python3.10/site-packages (from requests->torch_geometric) (1.26.18)\nRequirement already satisfied: certifi>=2017.4.17 in /opt/conda/lib/python3.10/site-packages (from requests->torch_geometric) (2024.8.30)\n",
          "output_type": "stream"
        }
      ]
    },
    {
      "cell_type": "code",
      "source": [
        "!pip install torch-scatter torch-sparse torch-cluster torch-spline-conv torch-geometric\n"
      ],
      "metadata": {
        "execution": {
          "iopub.status.busy": "2024-10-06T14:29:21.274328Z",
          "iopub.execute_input": "2024-10-06T14:29:21.274693Z",
          "iopub.status.idle": "2024-10-06T14:29:32.948524Z",
          "shell.execute_reply.started": "2024-10-06T14:29:21.274657Z",
          "shell.execute_reply": "2024-10-06T14:29:32.947423Z"
        },
        "trusted": true,
        "id": "pn7itoRUxSG8",
        "outputId": "dd275343-e1f0-4c47-efb1-a0af1ed6b7f6"
      },
      "execution_count": null,
      "outputs": [
        {
          "name": "stdout",
          "text": "Requirement already satisfied: torch-scatter in /opt/conda/lib/python3.10/site-packages (2.1.2)\nRequirement already satisfied: torch-sparse in /opt/conda/lib/python3.10/site-packages (0.6.18)\nRequirement already satisfied: torch-cluster in /opt/conda/lib/python3.10/site-packages (1.6.3)\nRequirement already satisfied: torch-spline-conv in /opt/conda/lib/python3.10/site-packages (1.2.2)\nRequirement already satisfied: torch-geometric in /opt/conda/lib/python3.10/site-packages (2.6.1)\nRequirement already satisfied: scipy in /opt/conda/lib/python3.10/site-packages (from torch-sparse) (1.14.1)\nRequirement already satisfied: aiohttp in /opt/conda/lib/python3.10/site-packages (from torch-geometric) (3.9.5)\nRequirement already satisfied: fsspec in /opt/conda/lib/python3.10/site-packages (from torch-geometric) (2024.6.1)\nRequirement already satisfied: jinja2 in /opt/conda/lib/python3.10/site-packages (from torch-geometric) (3.1.4)\nRequirement already satisfied: numpy in /opt/conda/lib/python3.10/site-packages (from torch-geometric) (1.26.4)\nRequirement already satisfied: psutil>=5.8.0 in /opt/conda/lib/python3.10/site-packages (from torch-geometric) (5.9.3)\nRequirement already satisfied: pyparsing in /opt/conda/lib/python3.10/site-packages (from torch-geometric) (3.1.2)\nRequirement already satisfied: requests in /opt/conda/lib/python3.10/site-packages (from torch-geometric) (2.32.3)\nRequirement already satisfied: tqdm in /opt/conda/lib/python3.10/site-packages (from torch-geometric) (4.66.4)\nRequirement already satisfied: aiosignal>=1.1.2 in /opt/conda/lib/python3.10/site-packages (from aiohttp->torch-geometric) (1.3.1)\nRequirement already satisfied: attrs>=17.3.0 in /opt/conda/lib/python3.10/site-packages (from aiohttp->torch-geometric) (23.2.0)\nRequirement already satisfied: frozenlist>=1.1.1 in /opt/conda/lib/python3.10/site-packages (from aiohttp->torch-geometric) (1.4.1)\nRequirement already satisfied: multidict<7.0,>=4.5 in /opt/conda/lib/python3.10/site-packages (from aiohttp->torch-geometric) (6.0.5)\nRequirement already satisfied: yarl<2.0,>=1.0 in /opt/conda/lib/python3.10/site-packages (from aiohttp->torch-geometric) (1.9.4)\nRequirement already satisfied: async-timeout<5.0,>=4.0 in /opt/conda/lib/python3.10/site-packages (from aiohttp->torch-geometric) (4.0.3)\nRequirement already satisfied: MarkupSafe>=2.0 in /opt/conda/lib/python3.10/site-packages (from jinja2->torch-geometric) (2.1.5)\nRequirement already satisfied: charset-normalizer<4,>=2 in /opt/conda/lib/python3.10/site-packages (from requests->torch-geometric) (3.3.2)\nRequirement already satisfied: idna<4,>=2.5 in /opt/conda/lib/python3.10/site-packages (from requests->torch-geometric) (3.7)\nRequirement already satisfied: urllib3<3,>=1.21.1 in /opt/conda/lib/python3.10/site-packages (from requests->torch-geometric) (1.26.18)\nRequirement already satisfied: certifi>=2017.4.17 in /opt/conda/lib/python3.10/site-packages (from requests->torch-geometric) (2024.8.30)\n",
          "output_type": "stream"
        }
      ]
    },
    {
      "cell_type": "code",
      "source": [
        "import re\n",
        "import nltk\n",
        "import torch\n",
        "import pandas as pd\n",
        "import numpy as np\n",
        "from sklearn.model_selection import train_test_split\n",
        "from transformers import BertTokenizer, BertModel, RobertaTokenizer, RobertaModel, DebertaTokenizer, DebertaModel\n",
        "from nltk.tokenize import word_tokenize\n",
        "from nltk.corpus import stopwords\n",
        "import torch.optim as optim\n",
        "import torch.nn.functional as F\n",
        "from torch_geometric.data import Data\n",
        "from torch_geometric.loader import DataLoader\n",
        "from torch_geometric.nn import GATConv\n",
        "import torch.nn as nn\n",
        "\n",
        "# Download NLTK resources\n",
        "nltk.download('punkt')\n",
        "nltk.download('stopwords')\n"
      ],
      "metadata": {
        "execution": {
          "iopub.status.busy": "2024-10-06T14:29:32.950077Z",
          "iopub.execute_input": "2024-10-06T14:29:32.950451Z",
          "iopub.status.idle": "2024-10-06T14:29:40.940669Z",
          "shell.execute_reply.started": "2024-10-06T14:29:32.950412Z",
          "shell.execute_reply": "2024-10-06T14:29:40.939679Z"
        },
        "trusted": true,
        "id": "Mn5QeGGExSG8",
        "outputId": "5c686eda-2e3c-4236-872f-14890b78b1fc"
      },
      "execution_count": null,
      "outputs": [
        {
          "name": "stdout",
          "text": "[nltk_data] Downloading package punkt to /usr/share/nltk_data...\n[nltk_data]   Package punkt is already up-to-date!\n[nltk_data] Downloading package stopwords to /usr/share/nltk_data...\n[nltk_data]   Package stopwords is already up-to-date!\n",
          "output_type": "stream"
        },
        {
          "execution_count": 39,
          "output_type": "execute_result",
          "data": {
            "text/plain": "True"
          },
          "metadata": {}
        }
      ]
    },
    {
      "cell_type": "code",
      "source": [
        "# Preprocessing function to clean the tweets\n",
        "def preprocess_tweet(tweet):\n",
        "    if not isinstance(tweet, str):\n",
        "        return ''\n",
        "    tweet = re.sub(r'http\\S+|www\\S+', '', tweet)  # Remove URLs\n",
        "    tweet = re.sub(r'@\\w+', '', tweet)            # Remove mentions\n",
        "    tweet = re.sub(r'[^A-Za-z\\s]', '', tweet)     # Remove special characters and numbers\n",
        "    tweet = tweet.lower()                         # Lowercase\n",
        "    tweet_tokens = word_tokenize(tweet)\n",
        "    stop_words = set(stopwords.words('english'))\n",
        "    return ' '.join([word for word in tweet_tokens if word not in stop_words])\n"
      ],
      "metadata": {
        "execution": {
          "iopub.status.busy": "2024-10-06T14:29:40.942102Z",
          "iopub.execute_input": "2024-10-06T14:29:40.942596Z",
          "iopub.status.idle": "2024-10-06T14:29:40.948842Z",
          "shell.execute_reply.started": "2024-10-06T14:29:40.942561Z",
          "shell.execute_reply": "2024-10-06T14:29:40.947972Z"
        },
        "trusted": true,
        "id": "GWwb4hazxSG8"
      },
      "execution_count": null,
      "outputs": []
    },
    {
      "cell_type": "code",
      "source": [
        "def extract_embeddings_in_batches(texts, tokenizer, model, device, batch_size=32):\n",
        "    model.to(device)  # Ensure the model is on the correct GPU\n",
        "    embeddings = []\n",
        "\n",
        "    for i in range(0, len(texts), batch_size):\n",
        "        batch_texts = texts[i:i + batch_size]\n",
        "        inputs = tokenizer(batch_texts, return_tensors='pt', truncation=True, padding=True, max_length=512).to(device)\n",
        "\n",
        "        with torch.no_grad():\n",
        "            outputs = model(**inputs)\n",
        "            batch_embeddings = outputs.last_hidden_state.mean(dim=1).cpu().numpy()\n",
        "            embeddings.append(batch_embeddings)\n",
        "\n",
        "    return np.vstack(embeddings)\n"
      ],
      "metadata": {
        "execution": {
          "iopub.status.busy": "2024-10-06T14:29:40.950144Z",
          "iopub.execute_input": "2024-10-06T14:29:40.950499Z",
          "iopub.status.idle": "2024-10-06T14:29:40.959221Z",
          "shell.execute_reply.started": "2024-10-06T14:29:40.950448Z",
          "shell.execute_reply": "2024-10-06T14:29:40.958295Z"
        },
        "trusted": true,
        "id": "oFskP7BqxSG8"
      },
      "execution_count": null,
      "outputs": []
    },
    {
      "cell_type": "code",
      "source": [
        "# Assuming final_dataset is a pandas DataFrame containing 'tweet_text' and 'label'\n",
        "final_dataset['cleaned_tweet'] = final_dataset['tweet_text'].apply(preprocess_tweet)\n",
        "\n",
        "# Define features and labels\n",
        "X = final_dataset['cleaned_tweet']  # Features (cleaned tweets)\n",
        "y = final_dataset['label']  # Labels (1 for depressed, 0 for non-depressed)\n",
        "\n",
        "# Split the dataset into training (80%) and testing (20%)\n",
        "X_train, X_test, y_train, y_test = train_test_split(X, y, test_size=0.2, random_state=42, stratify=y)\n"
      ],
      "metadata": {
        "execution": {
          "iopub.status.busy": "2024-10-06T14:29:40.960333Z",
          "iopub.execute_input": "2024-10-06T14:29:40.960626Z",
          "iopub.status.idle": "2024-10-06T14:32:03.417657Z",
          "shell.execute_reply.started": "2024-10-06T14:29:40.960595Z",
          "shell.execute_reply": "2024-10-06T14:32:03.416829Z"
        },
        "trusted": true,
        "id": "lKYEXagDxSG8"
      },
      "execution_count": null,
      "outputs": []
    },
    {
      "cell_type": "code",
      "source": [
        "device1 = torch.device('cuda:0')  # First GPU\n",
        "device2 = torch.device('cuda:1')  # Second GPU\n",
        "\n",
        "# Initialize BERT tokenizer and model\n",
        "bert_tokenizer = BertTokenizer.from_pretrained('bert-base-uncased')\n",
        "bert_model = BertModel.from_pretrained('bert-base-uncased').to(device1)  # BERT on GPU 1\n",
        "\n",
        "roberta_tokenizer = RobertaTokenizer.from_pretrained('roberta-base')\n",
        "roberta_model = RobertaModel.from_pretrained('roberta-base').to(device2)  # RoBERTa on GPU 2\n",
        "\n",
        "deberta_tokenizer = DebertaTokenizer.from_pretrained('microsoft/deberta-base')\n",
        "deberta_model = DebertaModel.from_pretrained('microsoft/deberta-base').to(device1)  # DeBERTa on GPU 1\n"
      ],
      "metadata": {
        "execution": {
          "iopub.status.busy": "2024-10-06T14:32:03.418971Z",
          "iopub.execute_input": "2024-10-06T14:32:03.419476Z",
          "iopub.status.idle": "2024-10-06T14:32:11.64286Z",
          "shell.execute_reply.started": "2024-10-06T14:32:03.419342Z",
          "shell.execute_reply": "2024-10-06T14:32:11.642015Z"
        },
        "trusted": true,
        "id": "Fb_-jYy8xSG8",
        "outputId": "731d3a23-36a4-4d96-b8a2-bf06fbd6b36e"
      },
      "execution_count": null,
      "outputs": [
        {
          "name": "stderr",
          "text": "/opt/conda/lib/python3.10/site-packages/transformers/tokenization_utils_base.py:1601: FutureWarning: `clean_up_tokenization_spaces` was not set. It will be set to `True` by default. This behavior will be depracted in transformers v4.45, and will be then set to `False` by default. For more details check this issue: https://github.com/huggingface/transformers/issues/31884\n  warnings.warn(\nSome weights of RobertaModel were not initialized from the model checkpoint at roberta-base and are newly initialized: ['roberta.pooler.dense.bias', 'roberta.pooler.dense.weight']\nYou should probably TRAIN this model on a down-stream task to be able to use it for predictions and inference.\n",
          "output_type": "stream"
        }
      ]
    },
    {
      "cell_type": "code",
      "source": [
        "# Extract embeddings for each model\n",
        "X_train_embeddings_bert = extract_embeddings_in_batches(X_train.tolist(), bert_tokenizer, bert_model, device1)\n",
        "X_test_embeddings_bert = extract_embeddings_in_batches(X_test.tolist(), bert_tokenizer, bert_model, device1)\n",
        "\n",
        "X_train_embeddings_roberta = extract_embeddings_in_batches(X_train.tolist(), roberta_tokenizer, roberta_model, device2)\n",
        "X_test_embeddings_roberta = extract_embeddings_in_batches(X_test.tolist(), roberta_tokenizer, roberta_model, device2)\n",
        "\n",
        "X_train_embeddings_deberta = extract_embeddings_in_batches(X_train.tolist(), deberta_tokenizer, deberta_model, device1)\n",
        "X_test_embeddings_deberta = extract_embeddings_in_batches(X_test.tolist(), deberta_tokenizer, deberta_model, device1)\n",
        "\n",
        "# Average the embeddings from the three models\n",
        "X_train_ensemble = (X_train_embeddings_bert + X_train_embeddings_roberta + X_train_embeddings_deberta) / 3\n",
        "X_test_ensemble = (X_test_embeddings_bert + X_test_embeddings_roberta + X_test_embeddings_deberta) / 3\n"
      ],
      "metadata": {
        "execution": {
          "iopub.status.busy": "2024-10-06T11:07:17.529279Z",
          "iopub.execute_input": "2024-10-06T11:07:17.529697Z",
          "iopub.status.idle": "2024-10-06T14:04:05.75709Z",
          "shell.execute_reply.started": "2024-10-06T11:07:17.529644Z",
          "shell.execute_reply": "2024-10-06T14:04:05.755951Z"
        },
        "trusted": true,
        "id": "SLwCpfqxxSG8"
      },
      "execution_count": null,
      "outputs": []
    },
    {
      "cell_type": "code",
      "source": [
        "# Save the embeddings to disk\n",
        "np.save('X_train_ensemble_embeddings.npy', X_train_ensemble)\n",
        "np.save('X_test_ensemble_embeddings.npy', X_test_ensemble)\n"
      ],
      "metadata": {
        "execution": {
          "iopub.status.busy": "2024-10-06T14:04:05.758501Z",
          "iopub.execute_input": "2024-10-06T14:04:05.758829Z",
          "iopub.status.idle": "2024-10-06T14:04:05.981119Z",
          "shell.execute_reply.started": "2024-10-06T14:04:05.758796Z",
          "shell.execute_reply": "2024-10-06T14:04:05.980239Z"
        },
        "trusted": true,
        "id": "u6Aab0IQxSG9"
      },
      "execution_count": null,
      "outputs": []
    },
    {
      "cell_type": "code",
      "source": [
        "# Load the embeddings from disk\n",
        "X_train_ensemble = np.load('X_train_ensemble_embeddings.npy')\n",
        "X_test_ensemble = np.load('X_test_ensemble_embeddings.npy')\n"
      ],
      "metadata": {
        "execution": {
          "iopub.status.busy": "2024-10-06T14:32:11.648859Z",
          "iopub.execute_input": "2024-10-06T14:32:11.64925Z",
          "iopub.status.idle": "2024-10-06T14:32:11.780756Z",
          "shell.execute_reply.started": "2024-10-06T14:32:11.649216Z",
          "shell.execute_reply": "2024-10-06T14:32:11.779859Z"
        },
        "trusted": true,
        "id": "8gfaSXiHxSG9"
      },
      "execution_count": null,
      "outputs": []
    },
    {
      "cell_type": "code",
      "source": [
        "# Function to create a fully connected edge index for n nodes\n",
        "def fully_connected_edge_index(num_nodes):\n",
        "    row = []\n",
        "    col = []\n",
        "    for i in range(num_nodes):\n",
        "        for j in range(num_nodes):\n",
        "            if i != j:\n",
        "                row.append(i)\n",
        "                col.append(j)\n",
        "    edge_index = torch.tensor([row, col], dtype=torch.long)\n",
        "    return edge_index\n",
        "\n",
        "# Create edge_index for training and test data (fully connected graph)\n",
        "train_edge_index = fully_connected_edge_index(X_train_ensemble.shape[0])\n",
        "test_edge_index = fully_connected_edge_index(X_test_ensemble.shape[0])\n"
      ],
      "metadata": {
        "execution": {
          "iopub.status.busy": "2024-10-06T14:32:11.782261Z",
          "iopub.execute_input": "2024-10-06T14:32:11.782752Z"
        },
        "trusted": true,
        "id": "olsEkXstxSG9"
      },
      "execution_count": null,
      "outputs": []
    },
    {
      "cell_type": "code",
      "source": [
        "!zip -r /kaggle/working/embeddings.zip /kaggle/working/X_train_ensemble_embeddings.npy /kaggle/working/X_test_ensemble_embeddings.npy"
      ],
      "metadata": {
        "execution": {
          "iopub.status.busy": "2024-10-06T14:17:04.055912Z",
          "iopub.execute_input": "2024-10-06T14:17:04.056779Z",
          "iopub.status.idle": "2024-10-06T14:17:18.60975Z",
          "shell.execute_reply.started": "2024-10-06T14:17:04.056737Z",
          "shell.execute_reply": "2024-10-06T14:17:18.608826Z"
        },
        "trusted": true,
        "id": "6ArhW6lUxSHB",
        "outputId": "d0cabdbe-1245-41e2-d999-b7d083f55390"
      },
      "execution_count": null,
      "outputs": [
        {
          "name": "stdout",
          "text": "  adding: kaggle/working/X_train_ensemble_embeddings.npy (deflated 27%)\n  adding: kaggle/working/X_test_ensemble_embeddings.npy (deflated 27%)\n",
          "output_type": "stream"
        }
      ]
    },
    {
      "cell_type": "code",
      "source": [
        "import shutil\n",
        "\n",
        "# Move files to the output directory for download\n",
        "shutil.move('X_train_ensemble_embeddings.npy', '/kaggle/working/X_train_ensemble_embeddings.npy')\n",
        "shutil.move('X_test_ensemble_embeddings.npy', '/kaggle/working/X_test_ensemble_embeddings.npy')\n"
      ],
      "metadata": {
        "execution": {
          "iopub.status.busy": "2024-10-06T14:20:49.29725Z",
          "iopub.execute_input": "2024-10-06T14:20:49.298083Z",
          "iopub.status.idle": "2024-10-06T14:20:49.304826Z",
          "shell.execute_reply.started": "2024-10-06T14:20:49.298042Z",
          "shell.execute_reply": "2024-10-06T14:20:49.303917Z"
        },
        "trusted": true,
        "id": "XV7uVQylxSHC",
        "outputId": "1e6f3a80-526a-4871-a3c7-db94ff8fbb75"
      },
      "execution_count": null,
      "outputs": [
        {
          "execution_count": 4,
          "output_type": "execute_result",
          "data": {
            "text/plain": "'/kaggle/working/X_test_ensemble_embeddings.npy'"
          },
          "metadata": {}
        }
      ]
    },
    {
      "cell_type": "code",
      "source": [
        "import os\n",
        "print(os.listdir('/kaggle/working'))\n"
      ],
      "metadata": {
        "trusted": true,
        "id": "kLpq4QhcxSHC"
      },
      "execution_count": null,
      "outputs": []
    },
    {
      "cell_type": "code",
      "source": [
        "!ls"
      ],
      "metadata": {
        "trusted": true,
        "id": "RJy-8-5LxSHC"
      },
      "execution_count": null,
      "outputs": []
    },
    {
      "cell_type": "code",
      "source": [
        "# Create Data objects for training and testing\n",
        "train_data = Data(x=torch.tensor(X_train_ensemble, dtype=torch.float),\n",
        "                  y=torch.tensor(y_train.values, dtype=torch.long),\n",
        "                  edge_index=train_edge_index)\n",
        "\n",
        "test_data = Data(x=torch.tensor(X_test_ensemble, dtype=torch.float),\n",
        "                 y=torch.tensor(y_test.values, dtype=torch.long),\n",
        "                 edge_index=test_edge_index)\n",
        "\n",
        "# Split training data into training and validation sets\n",
        "X_train, X_val, y_train, y_val = train_test_split(X_train_ensemble, y_train, test_size=0.2, random_state=42)\n",
        "\n",
        "# Create edge_index for validation set (fully connected graph)\n",
        "val_edge_index = fully_connected_edge_index(X_val.shape[0])\n",
        "\n",
        "# Create Data objects for validation data\n",
        "val_data = Data(x=torch.tensor(X_val, dtype=torch.float),\n",
        "                y=torch.tensor(y_val.values, dtype=torch.long),\n",
        "                edge_index=val_edge_index)\n",
        "\n",
        "# Create DataLoader for training and validation data\n",
        "train_loader = DataLoader([train_data], batch_size=1)\n",
        "val_loader = DataLoader([val_data], batch_size=1)\n"
      ],
      "metadata": {
        "trusted": true,
        "id": "BVqZEMC_xSHC"
      },
      "execution_count": null,
      "outputs": []
    },
    {
      "cell_type": "code",
      "source": [
        "class GAT(nn.Module):\n",
        "    def __init__(self, in_channels, hidden_channels, out_channels):\n",
        "        super(GAT, self).__init__()\n",
        "        self.conv1 = GATConv(in_channels, hidden_channels, heads=8, dropout=0.6)\n",
        "        self.conv2 = GATConv(hidden_channels * 8, out_channels, heads=1, dropout=0.6)\n",
        "\n",
        "    def forward(self, x, edge_index):\n",
        "        x = self.conv1(x, edge_index)\n",
        "        x = F.elu(x)\n",
        "        x = self.conv2(x, edge_index)\n",
        "        return F.log_softmax(x, dim=1)\n"
      ],
      "metadata": {
        "trusted": true,
        "id": "Tvmta3QoxSHC"
      },
      "execution_count": null,
      "outputs": []
    },
    {
      "cell_type": "code",
      "source": [
        "# Initialize the GAT model\n",
        "model = GAT(in_channels=X_train_ensemble.shape[1], hidden_channels=64, out_channels=2).to(device1)"
      ],
      "metadata": {
        "trusted": true,
        "id": "Or6YKE0FxSHC"
      },
      "execution_count": null,
      "outputs": []
    },
    {
      "cell_type": "code",
      "source": [
        "# Define optimizer and loss function\n",
        "optimizer = optim.Adam(model.parameters(), lr=0.005)\n",
        "loss_fn = nn.NLLLoss()"
      ],
      "metadata": {
        "trusted": true,
        "id": "x3_-2itgxSHC"
      },
      "execution_count": null,
      "outputs": []
    },
    {
      "cell_type": "code",
      "source": [
        "# Train function\n",
        "def train(model, loader):\n",
        "    model.train()\n",
        "    epoch_loss = 0\n",
        "    for batch in loader:\n",
        "        optimizer.zero_grad()\n",
        "        out = model(batch.x, batch.edge_index)\n",
        "        loss = loss_fn(out, batch.y)\n",
        "        loss.backward()\n",
        "        optimizer.step()\n",
        "        epoch_loss += loss.item()\n",
        "    return epoch_loss / len(loader)\n"
      ],
      "metadata": {
        "trusted": true,
        "id": "1EybjPVyxSHC"
      },
      "execution_count": null,
      "outputs": []
    },
    {
      "cell_type": "code",
      "source": [
        "# Evaluation function\n",
        "def evaluate(model, loader):\n",
        "    model.eval()\n",
        "    total_loss = 0\n",
        "    with torch.no_grad():\n",
        "        for batch in loader:\n",
        "            out = model(batch.x, batch.edge_index)\n",
        "            loss = loss_fn(out, batch.y)\n",
        "            total_loss += loss.item()\n",
        "    return total_loss / len(loader)\n"
      ],
      "metadata": {
        "trusted": true,
        "id": "5AomnVPgxSHC"
      },
      "execution_count": null,
      "outputs": []
    },
    {
      "cell_type": "code",
      "source": [
        "best_loss = float('inf')\n",
        "patience = 20\n",
        "counter = 0\n",
        "\n",
        "for epoch in range(300):\n",
        "    avg_loss = train(model, train_loader)\n",
        "    val_loss = evaluate(model, val_loader)\n",
        "\n",
        "    if val_loss < best_loss:\n",
        "        best_loss = val_loss\n",
        "        counter = 0\n",
        "    else:\n",
        "        counter += 1\n",
        "\n",
        "    if counter >= patience:\n",
        "        print(f\"Early stopping at epoch {epoch}\")\n",
        "        break\n",
        "\n",
        "    print(f'Epoch {epoch}, Loss: {avg_loss:.4f}, Validation Loss: {val_loss:.4f}')\n"
      ],
      "metadata": {
        "trusted": true,
        "id": "bA0tm-dXxSHC"
      },
      "execution_count": null,
      "outputs": []
    }
  ]
}